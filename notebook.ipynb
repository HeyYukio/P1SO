{
 "cells": [
  {
   "cell_type": "code",
   "execution_count": 13,
   "id": "b6835227",
   "metadata": {},
   "outputs": [],
   "source": [
    "import pandas as pd\n",
    "from plotly.subplots import make_subplots\n",
    "import plotly.graph_objs as go"
   ]
  },
  {
   "cell_type": "code",
   "execution_count": 14,
   "id": "6afb0edb",
   "metadata": {},
   "outputs": [],
   "source": [
    "jobs = pd.read_csv('saco2.csv')\n",
    "jobs.set_index('clock', inplace=True)\n",
    "jobs.drop(['Unnamed: 0'], axis=1, inplace=True)"
   ]
  },
  {
   "cell_type": "code",
   "execution_count": 15,
   "id": "993e2b71",
   "metadata": {},
   "outputs": [
    {
     "data": {
      "text/html": [
       "<div>\n",
       "<style scoped>\n",
       "    .dataframe tbody tr th:only-of-type {\n",
       "        vertical-align: middle;\n",
       "    }\n",
       "\n",
       "    .dataframe tbody tr th {\n",
       "        vertical-align: top;\n",
       "    }\n",
       "\n",
       "    .dataframe thead th {\n",
       "        text-align: right;\n",
       "    }\n",
       "</style>\n",
       "<table border=\"1\" class=\"dataframe\">\n",
       "  <thead>\n",
       "    <tr style=\"text-align: right;\">\n",
       "      <th></th>\n",
       "      <th>job_id</th>\n",
       "      <th>tipo</th>\n",
       "      <th>instante</th>\n",
       "    </tr>\n",
       "    <tr>\n",
       "      <th>clock</th>\n",
       "      <th></th>\n",
       "      <th></th>\n",
       "      <th></th>\n",
       "    </tr>\n",
       "  </thead>\n",
       "  <tbody>\n",
       "    <tr>\n",
       "      <th>20</th>\n",
       "      <td>1</td>\n",
       "      <td>Chegada</td>\n",
       "      <td>20</td>\n",
       "    </tr>\n",
       "    <tr>\n",
       "      <th>20</th>\n",
       "      <td>2</td>\n",
       "      <td>Chegada</td>\n",
       "      <td>20</td>\n",
       "    </tr>\n",
       "    <tr>\n",
       "      <th>20</th>\n",
       "      <td>1</td>\n",
       "      <td>Ingresso</td>\n",
       "      <td>0</td>\n",
       "    </tr>\n",
       "    <tr>\n",
       "      <th>20</th>\n",
       "      <td>2</td>\n",
       "      <td>Ingresso</td>\n",
       "      <td>0</td>\n",
       "    </tr>\n",
       "    <tr>\n",
       "      <th>20</th>\n",
       "      <td>1</td>\n",
       "      <td>ReqDisp</td>\n",
       "      <td>0</td>\n",
       "    </tr>\n",
       "    <tr>\n",
       "      <th>...</th>\n",
       "      <td>...</td>\n",
       "      <td>...</td>\n",
       "      <td>...</td>\n",
       "    </tr>\n",
       "    <tr>\n",
       "      <th>385</th>\n",
       "      <td>4</td>\n",
       "      <td>SaidaSis</td>\n",
       "      <td>0</td>\n",
       "    </tr>\n",
       "    <tr>\n",
       "      <th>370</th>\n",
       "      <td>3</td>\n",
       "      <td>FimProcess</td>\n",
       "      <td>0</td>\n",
       "    </tr>\n",
       "    <tr>\n",
       "      <th>370</th>\n",
       "      <td>3</td>\n",
       "      <td>LiberaProcess</td>\n",
       "      <td>0</td>\n",
       "    </tr>\n",
       "    <tr>\n",
       "      <th>370</th>\n",
       "      <td>3</td>\n",
       "      <td>LiberaMem</td>\n",
       "      <td>0</td>\n",
       "    </tr>\n",
       "    <tr>\n",
       "      <th>370</th>\n",
       "      <td>3</td>\n",
       "      <td>SaidaSis</td>\n",
       "      <td>0</td>\n",
       "    </tr>\n",
       "  </tbody>\n",
       "</table>\n",
       "<p>595 rows × 3 columns</p>\n",
       "</div>"
      ],
      "text/plain": [
       "       job_id           tipo  instante\n",
       "clock                                 \n",
       "20          1        Chegada        20\n",
       "20          2        Chegada        20\n",
       "20          1       Ingresso         0\n",
       "20          2       Ingresso         0\n",
       "20          1        ReqDisp         0\n",
       "...       ...            ...       ...\n",
       "385         4       SaidaSis         0\n",
       "370         3     FimProcess         0\n",
       "370         3  LiberaProcess         0\n",
       "370         3      LiberaMem         0\n",
       "370         3       SaidaSis         0\n",
       "\n",
       "[595 rows x 3 columns]"
      ]
     },
     "execution_count": 15,
     "metadata": {},
     "output_type": "execute_result"
    }
   ],
   "source": [
    "jobs"
   ]
  },
  {
   "cell_type": "code",
   "execution_count": 16,
   "id": "874de642",
   "metadata": {},
   "outputs": [],
   "source": [
    "def plot_states_by_job_id(jobs, job_id):\n",
    "\n",
    "    job_id_data = jobs[jobs.job_id == job_id]\n",
    "\n",
    "    trace = go.Scatter(x=job_id_data.index,\n",
    "                       y=job_id_data.tipo,\n",
    "                       mode='lines+markers',\n",
    "                       name='job='+str(job_id))\n",
    "\n",
    "    return trace\n",
    "\n",
    "\n",
    "fig = make_subplots(specs=[[{\"secondary_y\": True}]])\n",
    "\n",
    "for job_id in jobs.job_id.unique():\n",
    "\n",
    "    fig_trace = plot_states_by_job_id(jobs, job_id)\n",
    "    fig.add_trace(fig_trace, secondary_y=False)\n",
    "\n",
    "\n",
    "order = ['Chegada', 'Ingresso', 'ReqDisp', 'ReqMem', 'ReqProcess', 'Executando', 'FimProcess', 'LiberaProcess',\n",
    "         'LiberaMem', 'SaidaSis', 'Fim']\n",
    "fig.update_layout(title=\"Estados dos jobs ao longo do tempo\",\n",
    "                  plot_bgcolor='white', yaxis={'categoryarray': order, 'categoryorder': \"array\"})\n",
    "\n",
    "multiprog_on = []\n",
    "for idx, clock in zip(range(len(jobs.index.unique())), jobs.index.unique()):\n",
    "    jobs_exec = jobs[(jobs.tipo == \"Executando\") & (jobs.index == clock)]\n",
    "\n",
    "    if len(jobs.index.unique()) != idx + 1:\n",
    "        next_clock = jobs.index.unique()[idx + 1]\n",
    "    else:\n",
    "        continue\n",
    "\n",
    "    if jobs_exec.shape[0] <= 1:\n",
    "        multiprog_on.append('Execução única')\n",
    "\n",
    "        if next_clock - clock  > 1:\n",
    "            for clk in range(clock, next_clock):\n",
    "                multiprog_on.append('Execução única')\n",
    "\n",
    "    else:\n",
    "        multiprog_on.append('Execução multipla')\n",
    "        last_state = 'Execução multipla'\n",
    "\n",
    "        if next_clock - clock  > 1:\n",
    "            for clk in range(clock, next_clock):\n",
    "                multiprog_on.append('Execução única')"
   ]
  },
  {
   "cell_type": "code",
   "execution_count": 17,
   "id": "547d7583",
   "metadata": {},
   "outputs": [
    {
     "data": {
      "application/vnd.plotly.v1+json": {
       "config": {
        "plotlyServerURL": "https://plot.ly"
       },
       "data": [
        {
         "mode": "lines+markers",
         "name": "job=1",
         "type": "scatter",
         "x": [
          20,
          20,
          20,
          20,
          20,
          20,
          21,
          22,
          23,
          24,
          25,
          26,
          27,
          28,
          29,
          30,
          31,
          32,
          33,
          34,
          35,
          36,
          37,
          38,
          39,
          40,
          41,
          42,
          43,
          44,
          45,
          46,
          47,
          48,
          49,
          50,
          51,
          52,
          53,
          54,
          55,
          56,
          57,
          58,
          59,
          60,
          61,
          62,
          63,
          64,
          65,
          66,
          67,
          68,
          69,
          70,
          71,
          72,
          73,
          74,
          75,
          76,
          77,
          78,
          79,
          80,
          81,
          82,
          83,
          84,
          85,
          86,
          87,
          88,
          89,
          90,
          91,
          92,
          93,
          94,
          95,
          96,
          97,
          98,
          99,
          100,
          101,
          102,
          103,
          104,
          105,
          106,
          107,
          108,
          109,
          110,
          111,
          112,
          113,
          114,
          115,
          116,
          117,
          118,
          119,
          120,
          121,
          122,
          123,
          124,
          125,
          126,
          127,
          128,
          129,
          130,
          131,
          132,
          133,
          134,
          135,
          136,
          137,
          138,
          139,
          140,
          141,
          142,
          143,
          144,
          145,
          146,
          147,
          148,
          149,
          150,
          150,
          150,
          150,
          150
         ],
         "xaxis": "x",
         "y": [
          "Chegada",
          "Ingresso",
          "ReqDisp",
          "ReqMem",
          "ReqProcess",
          "Executando",
          "Executando",
          "Executando",
          "Executando",
          "Executando",
          "Executando",
          "Executando",
          "Executando",
          "Executando",
          "Executando",
          "Executando",
          "Executando",
          "Executando",
          "Executando",
          "Executando",
          "Executando",
          "Executando",
          "Executando",
          "Executando",
          "Executando",
          "Executando",
          "Executando",
          "Executando",
          "Executando",
          "Executando",
          "Executando",
          "Executando",
          "Executando",
          "Executando",
          "Executando",
          "Executando",
          "Executando",
          "Executando",
          "Executando",
          "Executando",
          "Executando",
          "Executando",
          "Executando",
          "Executando",
          "Executando",
          "Executando",
          "Executando",
          "Executando",
          "Executando",
          "Executando",
          "Executando",
          "Executando",
          "Executando",
          "Executando",
          "Executando",
          "Executando",
          "Executando",
          "Executando",
          "Executando",
          "Executando",
          "Executando",
          "Executando",
          "Executando",
          "Executando",
          "Executando",
          "Executando",
          "Executando",
          "Executando",
          "Executando",
          "Executando",
          "Executando",
          "Executando",
          "Executando",
          "Executando",
          "Executando",
          "Executando",
          "Executando",
          "Executando",
          "Executando",
          "Executando",
          "Executando",
          "Executando",
          "Executando",
          "Executando",
          "Executando",
          "Executando",
          "Executando",
          "Executando",
          "Executando",
          "Executando",
          "Executando",
          "Executando",
          "Executando",
          "Executando",
          "Executando",
          "Executando",
          "Executando",
          "Executando",
          "Executando",
          "Executando",
          "Executando",
          "Executando",
          "Executando",
          "Executando",
          "Executando",
          "Executando",
          "Executando",
          "Executando",
          "Executando",
          "Executando",
          "Executando",
          "Executando",
          "Executando",
          "Executando",
          "Executando",
          "Executando",
          "Executando",
          "Executando",
          "Executando",
          "Executando",
          "Executando",
          "Executando",
          "Executando",
          "Executando",
          "Executando",
          "Executando",
          "Executando",
          "Executando",
          "Executando",
          "Executando",
          "Executando",
          "Executando",
          "Executando",
          "Executando",
          "Executando",
          "Executando",
          "FimProcess",
          "LiberaProcess",
          "LiberaMem",
          "SaidaSis"
         ],
         "yaxis": "y"
        },
        {
         "mode": "lines+markers",
         "name": "job=2",
         "type": "scatter",
         "x": [
          20,
          20,
          20,
          20,
          20,
          20,
          21,
          22,
          23,
          24,
          25,
          26,
          27,
          28,
          29,
          30,
          31,
          32,
          33,
          34,
          35,
          36,
          37,
          38,
          39,
          40,
          41,
          42,
          43,
          44,
          45,
          46,
          47,
          48,
          49,
          50,
          51,
          52,
          53,
          54,
          55,
          56,
          57,
          58,
          59,
          60,
          61,
          62,
          63,
          64,
          65,
          66,
          67,
          68,
          69,
          70,
          71,
          72,
          73,
          74,
          75,
          76,
          77,
          78,
          79,
          80,
          81,
          82,
          83,
          84,
          85,
          86,
          87,
          88,
          89,
          90,
          91,
          92,
          93,
          94,
          95,
          96,
          97,
          98,
          99,
          100,
          101,
          102,
          103,
          104,
          105,
          106,
          107,
          108,
          109,
          110,
          111,
          112,
          113,
          114,
          115,
          116,
          117,
          118,
          119,
          120,
          121,
          122,
          123,
          124,
          125,
          126,
          127,
          128,
          129,
          130,
          131,
          132,
          133,
          134,
          135,
          136,
          137,
          138,
          139,
          140,
          141,
          142,
          143,
          144,
          145,
          146,
          147,
          148,
          149,
          150,
          150,
          150,
          150,
          150
         ],
         "xaxis": "x",
         "y": [
          "Chegada",
          "Ingresso",
          "ReqDisp",
          "ReqMem",
          "ReqProcess",
          "Executando",
          "Executando",
          "Executando",
          "Executando",
          "Executando",
          "Executando",
          "Executando",
          "Executando",
          "Executando",
          "Executando",
          "Executando",
          "Executando",
          "Executando",
          "Executando",
          "Executando",
          "Executando",
          "Executando",
          "Executando",
          "Executando",
          "Executando",
          "Executando",
          "Executando",
          "Executando",
          "Executando",
          "Executando",
          "Executando",
          "Executando",
          "Executando",
          "Executando",
          "Executando",
          "Executando",
          "Executando",
          "Executando",
          "Executando",
          "Executando",
          "Executando",
          "Executando",
          "Executando",
          "Executando",
          "Executando",
          "Executando",
          "Executando",
          "Executando",
          "Executando",
          "Executando",
          "Executando",
          "Executando",
          "Executando",
          "Executando",
          "Executando",
          "Executando",
          "Executando",
          "Executando",
          "Executando",
          "Executando",
          "Executando",
          "Executando",
          "Executando",
          "Executando",
          "Executando",
          "Executando",
          "Executando",
          "Executando",
          "Executando",
          "Executando",
          "Executando",
          "Executando",
          "Executando",
          "Executando",
          "Executando",
          "Executando",
          "Executando",
          "Executando",
          "Executando",
          "Executando",
          "Executando",
          "Executando",
          "Executando",
          "Executando",
          "Executando",
          "Executando",
          "Executando",
          "Executando",
          "Executando",
          "Executando",
          "Executando",
          "Executando",
          "Executando",
          "Executando",
          "Executando",
          "Executando",
          "Executando",
          "Executando",
          "Executando",
          "Executando",
          "Executando",
          "Executando",
          "Executando",
          "Executando",
          "Executando",
          "Executando",
          "Executando",
          "Executando",
          "Executando",
          "Executando",
          "Executando",
          "Executando",
          "Executando",
          "Executando",
          "Executando",
          "Executando",
          "Executando",
          "Executando",
          "Executando",
          "Executando",
          "Executando",
          "Executando",
          "Executando",
          "Executando",
          "Executando",
          "Executando",
          "Executando",
          "Executando",
          "Executando",
          "Executando",
          "Executando",
          "Executando",
          "Executando",
          "Executando",
          "Executando",
          "Executando",
          "FimProcess",
          "LiberaProcess",
          "LiberaMem",
          "SaidaSis"
         ],
         "yaxis": "y"
        },
        {
         "mode": "lines+markers",
         "name": "job=3",
         "type": "scatter",
         "x": [
          220,
          220,
          220,
          220,
          220,
          220,
          221,
          222,
          223,
          224,
          225,
          226,
          227,
          228,
          229,
          230,
          231,
          232,
          233,
          234,
          235,
          236,
          237,
          238,
          239,
          240,
          241,
          242,
          243,
          244,
          245,
          246,
          247,
          248,
          249,
          250,
          251,
          252,
          253,
          254,
          255,
          256,
          257,
          258,
          259,
          260,
          261,
          262,
          263,
          264,
          265,
          266,
          267,
          268,
          269,
          270,
          271,
          272,
          273,
          274,
          275,
          276,
          277,
          278,
          279,
          280,
          281,
          282,
          283,
          284,
          285,
          286,
          287,
          288,
          289,
          290,
          291,
          292,
          293,
          294,
          295,
          296,
          297,
          298,
          299,
          300,
          301,
          302,
          303,
          304,
          305,
          306,
          307,
          308,
          309,
          310,
          311,
          312,
          313,
          314,
          315,
          316,
          317,
          318,
          319,
          320,
          321,
          322,
          323,
          324,
          325,
          326,
          327,
          328,
          329,
          330,
          331,
          332,
          333,
          334,
          335,
          336,
          337,
          338,
          339,
          340,
          341,
          342,
          343,
          344,
          345,
          346,
          347,
          348,
          349,
          350,
          351,
          352,
          353,
          354,
          355,
          356,
          357,
          358,
          359,
          360,
          361,
          362,
          363,
          364,
          365,
          366,
          367,
          368,
          369,
          370,
          370,
          370,
          370,
          370
         ],
         "xaxis": "x",
         "y": [
          "Chegada",
          "Ingresso",
          "ReqDisp",
          "ReqMem",
          "ReqProcess",
          "Executando",
          "Executando",
          "Executando",
          "Executando",
          "Executando",
          "Executando",
          "Executando",
          "Executando",
          "Executando",
          "Executando",
          "Executando",
          "Executando",
          "Executando",
          "Executando",
          "Executando",
          "Executando",
          "Executando",
          "Executando",
          "Executando",
          "Executando",
          "Executando",
          "Executando",
          "Executando",
          "Executando",
          "Executando",
          "Executando",
          "Executando",
          "Executando",
          "Executando",
          "Executando",
          "Executando",
          "Executando",
          "Executando",
          "Executando",
          "Executando",
          "Executando",
          "Executando",
          "Executando",
          "Executando",
          "Executando",
          "Executando",
          "Executando",
          "Executando",
          "Executando",
          "Executando",
          "Executando",
          "Executando",
          "Executando",
          "Executando",
          "Executando",
          "Executando",
          "Executando",
          "Executando",
          "Executando",
          "Executando",
          "Executando",
          "Executando",
          "Executando",
          "Executando",
          "Executando",
          "Executando",
          "Executando",
          "Executando",
          "Executando",
          "Executando",
          "Executando",
          "Executando",
          "Executando",
          "Executando",
          "Executando",
          "Executando",
          "Executando",
          "Executando",
          "Executando",
          "Executando",
          "Executando",
          "Executando",
          "Executando",
          "Executando",
          "Executando",
          "Executando",
          "Executando",
          "Executando",
          "Executando",
          "Executando",
          "Executando",
          "Executando",
          "Executando",
          "Executando",
          "Executando",
          "Executando",
          "Executando",
          "Executando",
          "Executando",
          "Executando",
          "Executando",
          "Executando",
          "Executando",
          "Executando",
          "Executando",
          "Executando",
          "Executando",
          "Executando",
          "Executando",
          "Executando",
          "Executando",
          "Executando",
          "Executando",
          "Executando",
          "Executando",
          "Executando",
          "Executando",
          "Executando",
          "Executando",
          "Executando",
          "Executando",
          "Executando",
          "Executando",
          "Executando",
          "Executando",
          "Executando",
          "Executando",
          "Executando",
          "Executando",
          "Executando",
          "Executando",
          "Executando",
          "Executando",
          "Executando",
          "Executando",
          "Executando",
          "Executando",
          "Executando",
          "Executando",
          "Executando",
          "Executando",
          "Executando",
          "Executando",
          "Executando",
          "Executando",
          "Executando",
          "Executando",
          "Executando",
          "Executando",
          "Executando",
          "Executando",
          "Executando",
          "Executando",
          "Executando",
          "Executando",
          "Executando",
          "FimProcess",
          "LiberaProcess",
          "LiberaMem",
          "SaidaSis"
         ],
         "yaxis": "y"
        },
        {
         "mode": "lines+markers",
         "name": "job=4",
         "type": "scatter",
         "x": [
          240,
          240,
          240,
          240,
          240,
          240,
          241,
          242,
          243,
          244,
          245,
          246,
          247,
          248,
          249,
          250,
          251,
          252,
          253,
          254,
          255,
          256,
          257,
          258,
          259,
          260,
          261,
          262,
          263,
          264,
          265,
          266,
          267,
          268,
          269,
          270,
          271,
          272,
          273,
          274,
          275,
          276,
          277,
          278,
          279,
          280,
          281,
          282,
          283,
          284,
          285,
          286,
          287,
          288,
          289,
          290,
          291,
          292,
          293,
          294,
          295,
          296,
          297,
          298,
          299,
          300,
          301,
          302,
          303,
          304,
          305,
          306,
          307,
          308,
          309,
          310,
          311,
          312,
          313,
          314,
          315,
          316,
          317,
          318,
          319,
          320,
          321,
          322,
          323,
          324,
          325,
          326,
          327,
          328,
          329,
          330,
          331,
          332,
          333,
          334,
          335,
          336,
          337,
          338,
          339,
          340,
          341,
          342,
          343,
          344,
          345,
          346,
          347,
          348,
          349,
          350,
          351,
          352,
          353,
          354,
          355,
          356,
          357,
          358,
          359,
          360,
          361,
          362,
          363,
          364,
          365,
          366,
          367,
          368,
          369,
          370,
          371,
          372,
          373,
          374,
          375,
          376,
          377,
          378,
          379,
          380,
          381,
          382,
          383,
          384,
          385,
          385,
          385,
          385,
          385
         ],
         "xaxis": "x",
         "y": [
          "Chegada",
          "Ingresso",
          "ReqDisp",
          "ReqMem",
          "ReqProcess",
          "Executando",
          "Executando",
          "Executando",
          "Executando",
          "Executando",
          "Executando",
          "Executando",
          "Executando",
          "Executando",
          "Executando",
          "Executando",
          "Executando",
          "Executando",
          "Executando",
          "Executando",
          "Executando",
          "Executando",
          "Executando",
          "Executando",
          "Executando",
          "Executando",
          "Executando",
          "Executando",
          "Executando",
          "Executando",
          "Executando",
          "Executando",
          "Executando",
          "Executando",
          "Executando",
          "Executando",
          "Executando",
          "Executando",
          "Executando",
          "Executando",
          "Executando",
          "Executando",
          "Executando",
          "Executando",
          "Executando",
          "Executando",
          "Executando",
          "Executando",
          "Executando",
          "Executando",
          "Executando",
          "Executando",
          "Executando",
          "Executando",
          "Executando",
          "Executando",
          "Executando",
          "Executando",
          "Executando",
          "Executando",
          "Executando",
          "Executando",
          "Executando",
          "Executando",
          "Executando",
          "Executando",
          "Executando",
          "Executando",
          "Executando",
          "Executando",
          "Executando",
          "Executando",
          "Executando",
          "Executando",
          "Executando",
          "Executando",
          "Executando",
          "Executando",
          "Executando",
          "Executando",
          "Executando",
          "Executando",
          "Executando",
          "Executando",
          "Executando",
          "Executando",
          "Executando",
          "Executando",
          "Executando",
          "Executando",
          "Executando",
          "Executando",
          "Executando",
          "Executando",
          "Executando",
          "Executando",
          "Executando",
          "Executando",
          "Executando",
          "Executando",
          "Executando",
          "Executando",
          "Executando",
          "Executando",
          "Executando",
          "Executando",
          "Executando",
          "Executando",
          "Executando",
          "Executando",
          "Executando",
          "Executando",
          "Executando",
          "Executando",
          "Executando",
          "Executando",
          "Executando",
          "Executando",
          "Executando",
          "Executando",
          "Executando",
          "Executando",
          "Executando",
          "Executando",
          "Executando",
          "Executando",
          "Executando",
          "Executando",
          "Executando",
          "Executando",
          "Executando",
          "Executando",
          "Executando",
          "Executando",
          "Executando",
          "Executando",
          "Executando",
          "Executando",
          "Executando",
          "Executando",
          "Executando",
          "Executando",
          "Executando",
          "Executando",
          "Executando",
          "Executando",
          "Executando",
          "Executando",
          "Executando",
          "Executando",
          "Executando",
          "FimProcess",
          "LiberaProcess",
          "LiberaMem",
          "SaidaSis"
         ],
         "yaxis": "y"
        },
        {
         "fill": "tozeroy",
         "line": {
          "color": "lightgray"
         },
         "name": "Execução Multipla",
         "type": "scatter",
         "x": [
          20,
          21,
          22,
          23,
          24,
          25,
          26,
          27,
          28,
          29,
          30,
          31,
          32,
          33,
          34,
          35,
          36,
          37,
          38,
          39,
          40,
          41,
          42,
          43,
          44,
          45,
          46,
          47,
          48,
          49,
          50,
          51,
          52,
          53,
          54,
          55,
          56,
          57,
          58,
          59,
          60,
          61,
          62,
          63,
          64,
          65,
          66,
          67,
          68,
          69,
          70,
          71,
          72,
          73,
          74,
          75,
          76,
          77,
          78,
          79,
          80,
          81,
          82,
          83,
          84,
          85,
          86,
          87,
          88,
          89,
          90,
          91,
          92,
          93,
          94,
          95,
          96,
          97,
          98,
          99,
          100,
          101,
          102,
          103,
          104,
          105,
          106,
          107,
          108,
          109,
          110,
          111,
          112,
          113,
          114,
          115,
          116,
          117,
          118,
          119,
          120,
          121,
          122,
          123,
          124,
          125,
          126,
          127,
          128,
          129,
          130,
          131,
          132,
          133,
          134,
          135,
          136,
          137,
          138,
          139,
          140,
          141,
          142,
          143,
          144,
          145,
          146,
          147,
          148,
          149,
          150,
          151,
          152,
          153,
          154,
          155,
          156,
          157,
          158,
          159,
          160,
          161,
          162,
          163,
          164,
          165,
          166,
          167,
          168,
          169,
          170,
          171,
          172,
          173,
          174,
          175,
          176,
          177,
          178,
          179,
          180,
          181,
          182,
          183,
          184,
          185,
          186,
          187,
          188,
          189,
          190,
          191,
          192,
          193,
          194,
          195,
          196,
          197,
          198,
          199,
          200,
          201,
          202,
          203,
          204,
          205,
          206,
          207,
          208,
          209,
          210,
          211,
          212,
          213,
          214,
          215,
          216,
          217,
          218,
          219,
          220,
          221,
          222,
          223,
          224,
          225,
          226,
          227,
          228,
          229,
          230,
          231,
          232,
          233,
          234,
          235,
          236,
          237,
          238,
          239,
          240,
          241,
          242,
          243,
          244,
          245,
          246,
          247,
          248,
          249,
          250,
          251,
          252,
          253,
          254,
          255,
          256,
          257,
          258,
          259,
          260,
          261,
          262,
          263,
          264,
          265,
          266,
          267,
          268,
          269,
          270,
          271,
          272,
          273,
          274,
          275,
          276,
          277,
          278,
          279,
          280,
          281,
          282,
          283,
          284,
          285,
          286,
          287,
          288,
          289,
          290,
          291,
          292,
          293,
          294,
          295,
          296,
          297,
          298,
          299,
          300,
          301,
          302,
          303,
          304,
          305,
          306,
          307,
          308,
          309,
          310,
          311,
          312,
          313,
          314,
          315,
          316,
          317,
          318,
          319,
          320,
          321,
          322,
          323,
          324,
          325,
          326,
          327,
          328,
          329,
          330,
          331,
          332,
          333,
          334,
          335,
          336,
          337,
          338,
          339,
          340,
          341,
          342,
          343,
          344,
          345,
          346,
          347,
          348,
          349,
          350,
          351,
          352,
          353,
          354,
          355,
          356,
          357,
          358,
          359,
          360,
          361,
          362,
          363,
          364,
          365,
          366,
          367,
          368,
          369,
          370,
          371,
          372,
          373,
          374,
          375,
          376,
          377,
          378,
          379,
          380,
          381,
          382,
          383,
          384,
          385
         ],
         "xaxis": "x",
         "y": [
          "Execução multipla",
          "Execução multipla",
          "Execução multipla",
          "Execução multipla",
          "Execução multipla",
          "Execução multipla",
          "Execução multipla",
          "Execução multipla",
          "Execução multipla",
          "Execução multipla",
          "Execução multipla",
          "Execução multipla",
          "Execução multipla",
          "Execução multipla",
          "Execução multipla",
          "Execução multipla",
          "Execução multipla",
          "Execução multipla",
          "Execução multipla",
          "Execução multipla",
          "Execução multipla",
          "Execução multipla",
          "Execução multipla",
          "Execução multipla",
          "Execução multipla",
          "Execução multipla",
          "Execução multipla",
          "Execução multipla",
          "Execução multipla",
          "Execução multipla",
          "Execução multipla",
          "Execução multipla",
          "Execução multipla",
          "Execução multipla",
          "Execução multipla",
          "Execução multipla",
          "Execução multipla",
          "Execução multipla",
          "Execução multipla",
          "Execução multipla",
          "Execução multipla",
          "Execução multipla",
          "Execução multipla",
          "Execução multipla",
          "Execução multipla",
          "Execução multipla",
          "Execução multipla",
          "Execução multipla",
          "Execução multipla",
          "Execução multipla",
          "Execução multipla",
          "Execução multipla",
          "Execução multipla",
          "Execução multipla",
          "Execução multipla",
          "Execução multipla",
          "Execução multipla",
          "Execução multipla",
          "Execução multipla",
          "Execução multipla",
          "Execução multipla",
          "Execução multipla",
          "Execução multipla",
          "Execução multipla",
          "Execução multipla",
          "Execução multipla",
          "Execução multipla",
          "Execução multipla",
          "Execução multipla",
          "Execução multipla",
          "Execução multipla",
          "Execução multipla",
          "Execução multipla",
          "Execução multipla",
          "Execução multipla",
          "Execução multipla",
          "Execução multipla",
          "Execução multipla",
          "Execução multipla",
          "Execução multipla",
          "Execução multipla",
          "Execução multipla",
          "Execução multipla",
          "Execução multipla",
          "Execução multipla",
          "Execução multipla",
          "Execução multipla",
          "Execução multipla",
          "Execução multipla",
          "Execução multipla",
          "Execução multipla",
          "Execução multipla",
          "Execução multipla",
          "Execução multipla",
          "Execução multipla",
          "Execução multipla",
          "Execução multipla",
          "Execução multipla",
          "Execução multipla",
          "Execução multipla",
          "Execução multipla",
          "Execução multipla",
          "Execução multipla",
          "Execução multipla",
          "Execução multipla",
          "Execução multipla",
          "Execução multipla",
          "Execução multipla",
          "Execução multipla",
          "Execução multipla",
          "Execução multipla",
          "Execução multipla",
          "Execução multipla",
          "Execução multipla",
          "Execução multipla",
          "Execução multipla",
          "Execução multipla",
          "Execução multipla",
          "Execução multipla",
          "Execução multipla",
          "Execução multipla",
          "Execução multipla",
          "Execução multipla",
          "Execução multipla",
          "Execução multipla",
          "Execução multipla",
          "Execução multipla",
          "Execução multipla",
          "Execução multipla",
          "Execução multipla",
          "Execução multipla",
          "Execução única",
          "Execução única",
          "Execução única",
          "Execução única",
          "Execução única",
          "Execução única",
          "Execução única",
          "Execução única",
          "Execução única",
          "Execução única",
          "Execução única",
          "Execução única",
          "Execução única",
          "Execução única",
          "Execução única",
          "Execução única",
          "Execução única",
          "Execução única",
          "Execução única",
          "Execução única",
          "Execução única",
          "Execução única",
          "Execução única",
          "Execução única",
          "Execução única",
          "Execução única",
          "Execução única",
          "Execução única",
          "Execução única",
          "Execução única",
          "Execução única",
          "Execução única",
          "Execução única",
          "Execução única",
          "Execução única",
          "Execução única",
          "Execução única",
          "Execução única",
          "Execução única",
          "Execução única",
          "Execução única",
          "Execução única",
          "Execução única",
          "Execução única",
          "Execução única",
          "Execução única",
          "Execução única",
          "Execução única",
          "Execução única",
          "Execução única",
          "Execução única",
          "Execução única",
          "Execução única",
          "Execução única",
          "Execução única",
          "Execução única",
          "Execução única",
          "Execução única",
          "Execução única",
          "Execução única",
          "Execução única",
          "Execução única",
          "Execução única",
          "Execução única",
          "Execução única",
          "Execução única",
          "Execução única",
          "Execução única",
          "Execução única",
          "Execução única",
          "Execução única",
          "Execução única",
          "Execução única",
          "Execução única",
          "Execução única",
          "Execução única",
          "Execução única",
          "Execução única",
          "Execução única",
          "Execução única",
          "Execução única",
          "Execução única",
          "Execução única",
          "Execução única",
          "Execução única",
          "Execução única",
          "Execução única",
          "Execução única",
          "Execução única",
          "Execução única",
          "Execução multipla",
          "Execução multipla",
          "Execução multipla",
          "Execução multipla",
          "Execução multipla",
          "Execução multipla",
          "Execução multipla",
          "Execução multipla",
          "Execução multipla",
          "Execução multipla",
          "Execução multipla",
          "Execução multipla",
          "Execução multipla",
          "Execução multipla",
          "Execução multipla",
          "Execução multipla",
          "Execução multipla",
          "Execução multipla",
          "Execução multipla",
          "Execução multipla",
          "Execução multipla",
          "Execução multipla",
          "Execução multipla",
          "Execução multipla",
          "Execução multipla",
          "Execução multipla",
          "Execução multipla",
          "Execução multipla",
          "Execução multipla",
          "Execução multipla",
          "Execução multipla",
          "Execução multipla",
          "Execução multipla",
          "Execução multipla",
          "Execução multipla",
          "Execução multipla",
          "Execução multipla",
          "Execução multipla",
          "Execução multipla",
          "Execução multipla",
          "Execução multipla",
          "Execução multipla",
          "Execução multipla",
          "Execução multipla",
          "Execução multipla",
          "Execução multipla",
          "Execução multipla",
          "Execução multipla",
          "Execução multipla",
          "Execução multipla",
          "Execução multipla",
          "Execução multipla",
          "Execução multipla",
          "Execução multipla",
          "Execução multipla",
          "Execução multipla",
          "Execução multipla",
          "Execução multipla",
          "Execução multipla",
          "Execução multipla",
          "Execução multipla",
          "Execução multipla",
          "Execução multipla",
          "Execução multipla",
          "Execução multipla",
          "Execução multipla",
          "Execução multipla",
          "Execução multipla",
          "Execução multipla",
          "Execução multipla",
          "Execução multipla",
          "Execução multipla",
          "Execução multipla",
          "Execução multipla",
          "Execução multipla",
          "Execução multipla",
          "Execução multipla",
          "Execução multipla",
          "Execução multipla",
          "Execução multipla",
          "Execução multipla",
          "Execução multipla",
          "Execução multipla",
          "Execução multipla",
          "Execução multipla",
          "Execução multipla",
          "Execução multipla",
          "Execução multipla",
          "Execução multipla",
          "Execução multipla",
          "Execução multipla",
          "Execução multipla",
          "Execução multipla",
          "Execução multipla",
          "Execução multipla",
          "Execução multipla",
          "Execução multipla",
          "Execução multipla",
          "Execução multipla",
          "Execução multipla",
          "Execução multipla",
          "Execução multipla",
          "Execução multipla",
          "Execução multipla",
          "Execução multipla",
          "Execução multipla",
          "Execução multipla",
          "Execução multipla",
          "Execução multipla",
          "Execução multipla",
          "Execução multipla",
          "Execução multipla",
          "Execução multipla",
          "Execução multipla",
          "Execução multipla",
          "Execução multipla",
          "Execução multipla",
          "Execução multipla",
          "Execução multipla",
          "Execução multipla",
          "Execução multipla",
          "Execução multipla",
          "Execução multipla",
          "Execução multipla",
          "Execução multipla",
          "Execução multipla",
          "Execução multipla",
          "Execução multipla",
          "Execução multipla",
          "Execução multipla",
          "Execução multipla",
          "Execução única",
          "Execução única",
          "Execução única",
          "Execução única",
          "Execução única",
          "Execução única",
          "Execução única",
          "Execução única",
          "Execução única",
          "Execução única",
          "Execução única",
          "Execução única",
          "Execução única",
          "Execução única"
         ],
         "yaxis": "y2"
        }
       ],
       "layout": {
        "plot_bgcolor": "white",
        "template": {
         "data": {
          "bar": [
           {
            "error_x": {
             "color": "#2a3f5f"
            },
            "error_y": {
             "color": "#2a3f5f"
            },
            "marker": {
             "line": {
              "color": "#E5ECF6",
              "width": 0.5
             },
             "pattern": {
              "fillmode": "overlay",
              "size": 10,
              "solidity": 0.2
             }
            },
            "type": "bar"
           }
          ],
          "barpolar": [
           {
            "marker": {
             "line": {
              "color": "#E5ECF6",
              "width": 0.5
             },
             "pattern": {
              "fillmode": "overlay",
              "size": 10,
              "solidity": 0.2
             }
            },
            "type": "barpolar"
           }
          ],
          "carpet": [
           {
            "aaxis": {
             "endlinecolor": "#2a3f5f",
             "gridcolor": "white",
             "linecolor": "white",
             "minorgridcolor": "white",
             "startlinecolor": "#2a3f5f"
            },
            "baxis": {
             "endlinecolor": "#2a3f5f",
             "gridcolor": "white",
             "linecolor": "white",
             "minorgridcolor": "white",
             "startlinecolor": "#2a3f5f"
            },
            "type": "carpet"
           }
          ],
          "choropleth": [
           {
            "colorbar": {
             "outlinewidth": 0,
             "ticks": ""
            },
            "type": "choropleth"
           }
          ],
          "contour": [
           {
            "colorbar": {
             "outlinewidth": 0,
             "ticks": ""
            },
            "colorscale": [
             [
              0,
              "#0d0887"
             ],
             [
              0.1111111111111111,
              "#46039f"
             ],
             [
              0.2222222222222222,
              "#7201a8"
             ],
             [
              0.3333333333333333,
              "#9c179e"
             ],
             [
              0.4444444444444444,
              "#bd3786"
             ],
             [
              0.5555555555555556,
              "#d8576b"
             ],
             [
              0.6666666666666666,
              "#ed7953"
             ],
             [
              0.7777777777777778,
              "#fb9f3a"
             ],
             [
              0.8888888888888888,
              "#fdca26"
             ],
             [
              1,
              "#f0f921"
             ]
            ],
            "type": "contour"
           }
          ],
          "contourcarpet": [
           {
            "colorbar": {
             "outlinewidth": 0,
             "ticks": ""
            },
            "type": "contourcarpet"
           }
          ],
          "heatmap": [
           {
            "colorbar": {
             "outlinewidth": 0,
             "ticks": ""
            },
            "colorscale": [
             [
              0,
              "#0d0887"
             ],
             [
              0.1111111111111111,
              "#46039f"
             ],
             [
              0.2222222222222222,
              "#7201a8"
             ],
             [
              0.3333333333333333,
              "#9c179e"
             ],
             [
              0.4444444444444444,
              "#bd3786"
             ],
             [
              0.5555555555555556,
              "#d8576b"
             ],
             [
              0.6666666666666666,
              "#ed7953"
             ],
             [
              0.7777777777777778,
              "#fb9f3a"
             ],
             [
              0.8888888888888888,
              "#fdca26"
             ],
             [
              1,
              "#f0f921"
             ]
            ],
            "type": "heatmap"
           }
          ],
          "heatmapgl": [
           {
            "colorbar": {
             "outlinewidth": 0,
             "ticks": ""
            },
            "colorscale": [
             [
              0,
              "#0d0887"
             ],
             [
              0.1111111111111111,
              "#46039f"
             ],
             [
              0.2222222222222222,
              "#7201a8"
             ],
             [
              0.3333333333333333,
              "#9c179e"
             ],
             [
              0.4444444444444444,
              "#bd3786"
             ],
             [
              0.5555555555555556,
              "#d8576b"
             ],
             [
              0.6666666666666666,
              "#ed7953"
             ],
             [
              0.7777777777777778,
              "#fb9f3a"
             ],
             [
              0.8888888888888888,
              "#fdca26"
             ],
             [
              1,
              "#f0f921"
             ]
            ],
            "type": "heatmapgl"
           }
          ],
          "histogram": [
           {
            "marker": {
             "pattern": {
              "fillmode": "overlay",
              "size": 10,
              "solidity": 0.2
             }
            },
            "type": "histogram"
           }
          ],
          "histogram2d": [
           {
            "colorbar": {
             "outlinewidth": 0,
             "ticks": ""
            },
            "colorscale": [
             [
              0,
              "#0d0887"
             ],
             [
              0.1111111111111111,
              "#46039f"
             ],
             [
              0.2222222222222222,
              "#7201a8"
             ],
             [
              0.3333333333333333,
              "#9c179e"
             ],
             [
              0.4444444444444444,
              "#bd3786"
             ],
             [
              0.5555555555555556,
              "#d8576b"
             ],
             [
              0.6666666666666666,
              "#ed7953"
             ],
             [
              0.7777777777777778,
              "#fb9f3a"
             ],
             [
              0.8888888888888888,
              "#fdca26"
             ],
             [
              1,
              "#f0f921"
             ]
            ],
            "type": "histogram2d"
           }
          ],
          "histogram2dcontour": [
           {
            "colorbar": {
             "outlinewidth": 0,
             "ticks": ""
            },
            "colorscale": [
             [
              0,
              "#0d0887"
             ],
             [
              0.1111111111111111,
              "#46039f"
             ],
             [
              0.2222222222222222,
              "#7201a8"
             ],
             [
              0.3333333333333333,
              "#9c179e"
             ],
             [
              0.4444444444444444,
              "#bd3786"
             ],
             [
              0.5555555555555556,
              "#d8576b"
             ],
             [
              0.6666666666666666,
              "#ed7953"
             ],
             [
              0.7777777777777778,
              "#fb9f3a"
             ],
             [
              0.8888888888888888,
              "#fdca26"
             ],
             [
              1,
              "#f0f921"
             ]
            ],
            "type": "histogram2dcontour"
           }
          ],
          "mesh3d": [
           {
            "colorbar": {
             "outlinewidth": 0,
             "ticks": ""
            },
            "type": "mesh3d"
           }
          ],
          "parcoords": [
           {
            "line": {
             "colorbar": {
              "outlinewidth": 0,
              "ticks": ""
             }
            },
            "type": "parcoords"
           }
          ],
          "pie": [
           {
            "automargin": true,
            "type": "pie"
           }
          ],
          "scatter": [
           {
            "marker": {
             "colorbar": {
              "outlinewidth": 0,
              "ticks": ""
             }
            },
            "type": "scatter"
           }
          ],
          "scatter3d": [
           {
            "line": {
             "colorbar": {
              "outlinewidth": 0,
              "ticks": ""
             }
            },
            "marker": {
             "colorbar": {
              "outlinewidth": 0,
              "ticks": ""
             }
            },
            "type": "scatter3d"
           }
          ],
          "scattercarpet": [
           {
            "marker": {
             "colorbar": {
              "outlinewidth": 0,
              "ticks": ""
             }
            },
            "type": "scattercarpet"
           }
          ],
          "scattergeo": [
           {
            "marker": {
             "colorbar": {
              "outlinewidth": 0,
              "ticks": ""
             }
            },
            "type": "scattergeo"
           }
          ],
          "scattergl": [
           {
            "marker": {
             "colorbar": {
              "outlinewidth": 0,
              "ticks": ""
             }
            },
            "type": "scattergl"
           }
          ],
          "scattermapbox": [
           {
            "marker": {
             "colorbar": {
              "outlinewidth": 0,
              "ticks": ""
             }
            },
            "type": "scattermapbox"
           }
          ],
          "scatterpolar": [
           {
            "marker": {
             "colorbar": {
              "outlinewidth": 0,
              "ticks": ""
             }
            },
            "type": "scatterpolar"
           }
          ],
          "scatterpolargl": [
           {
            "marker": {
             "colorbar": {
              "outlinewidth": 0,
              "ticks": ""
             }
            },
            "type": "scatterpolargl"
           }
          ],
          "scatterternary": [
           {
            "marker": {
             "colorbar": {
              "outlinewidth": 0,
              "ticks": ""
             }
            },
            "type": "scatterternary"
           }
          ],
          "surface": [
           {
            "colorbar": {
             "outlinewidth": 0,
             "ticks": ""
            },
            "colorscale": [
             [
              0,
              "#0d0887"
             ],
             [
              0.1111111111111111,
              "#46039f"
             ],
             [
              0.2222222222222222,
              "#7201a8"
             ],
             [
              0.3333333333333333,
              "#9c179e"
             ],
             [
              0.4444444444444444,
              "#bd3786"
             ],
             [
              0.5555555555555556,
              "#d8576b"
             ],
             [
              0.6666666666666666,
              "#ed7953"
             ],
             [
              0.7777777777777778,
              "#fb9f3a"
             ],
             [
              0.8888888888888888,
              "#fdca26"
             ],
             [
              1,
              "#f0f921"
             ]
            ],
            "type": "surface"
           }
          ],
          "table": [
           {
            "cells": {
             "fill": {
              "color": "#EBF0F8"
             },
             "line": {
              "color": "white"
             }
            },
            "header": {
             "fill": {
              "color": "#C8D4E3"
             },
             "line": {
              "color": "white"
             }
            },
            "type": "table"
           }
          ]
         },
         "layout": {
          "annotationdefaults": {
           "arrowcolor": "#2a3f5f",
           "arrowhead": 0,
           "arrowwidth": 1
          },
          "autotypenumbers": "strict",
          "coloraxis": {
           "colorbar": {
            "outlinewidth": 0,
            "ticks": ""
           }
          },
          "colorscale": {
           "diverging": [
            [
             0,
             "#8e0152"
            ],
            [
             0.1,
             "#c51b7d"
            ],
            [
             0.2,
             "#de77ae"
            ],
            [
             0.3,
             "#f1b6da"
            ],
            [
             0.4,
             "#fde0ef"
            ],
            [
             0.5,
             "#f7f7f7"
            ],
            [
             0.6,
             "#e6f5d0"
            ],
            [
             0.7,
             "#b8e186"
            ],
            [
             0.8,
             "#7fbc41"
            ],
            [
             0.9,
             "#4d9221"
            ],
            [
             1,
             "#276419"
            ]
           ],
           "sequential": [
            [
             0,
             "#0d0887"
            ],
            [
             0.1111111111111111,
             "#46039f"
            ],
            [
             0.2222222222222222,
             "#7201a8"
            ],
            [
             0.3333333333333333,
             "#9c179e"
            ],
            [
             0.4444444444444444,
             "#bd3786"
            ],
            [
             0.5555555555555556,
             "#d8576b"
            ],
            [
             0.6666666666666666,
             "#ed7953"
            ],
            [
             0.7777777777777778,
             "#fb9f3a"
            ],
            [
             0.8888888888888888,
             "#fdca26"
            ],
            [
             1,
             "#f0f921"
            ]
           ],
           "sequentialminus": [
            [
             0,
             "#0d0887"
            ],
            [
             0.1111111111111111,
             "#46039f"
            ],
            [
             0.2222222222222222,
             "#7201a8"
            ],
            [
             0.3333333333333333,
             "#9c179e"
            ],
            [
             0.4444444444444444,
             "#bd3786"
            ],
            [
             0.5555555555555556,
             "#d8576b"
            ],
            [
             0.6666666666666666,
             "#ed7953"
            ],
            [
             0.7777777777777778,
             "#fb9f3a"
            ],
            [
             0.8888888888888888,
             "#fdca26"
            ],
            [
             1,
             "#f0f921"
            ]
           ]
          },
          "colorway": [
           "#636efa",
           "#EF553B",
           "#00cc96",
           "#ab63fa",
           "#FFA15A",
           "#19d3f3",
           "#FF6692",
           "#B6E880",
           "#FF97FF",
           "#FECB52"
          ],
          "font": {
           "color": "#2a3f5f"
          },
          "geo": {
           "bgcolor": "white",
           "lakecolor": "white",
           "landcolor": "#E5ECF6",
           "showlakes": true,
           "showland": true,
           "subunitcolor": "white"
          },
          "hoverlabel": {
           "align": "left"
          },
          "hovermode": "closest",
          "mapbox": {
           "style": "light"
          },
          "paper_bgcolor": "white",
          "plot_bgcolor": "#E5ECF6",
          "polar": {
           "angularaxis": {
            "gridcolor": "white",
            "linecolor": "white",
            "ticks": ""
           },
           "bgcolor": "#E5ECF6",
           "radialaxis": {
            "gridcolor": "white",
            "linecolor": "white",
            "ticks": ""
           }
          },
          "scene": {
           "xaxis": {
            "backgroundcolor": "#E5ECF6",
            "gridcolor": "white",
            "gridwidth": 2,
            "linecolor": "white",
            "showbackground": true,
            "ticks": "",
            "zerolinecolor": "white"
           },
           "yaxis": {
            "backgroundcolor": "#E5ECF6",
            "gridcolor": "white",
            "gridwidth": 2,
            "linecolor": "white",
            "showbackground": true,
            "ticks": "",
            "zerolinecolor": "white"
           },
           "zaxis": {
            "backgroundcolor": "#E5ECF6",
            "gridcolor": "white",
            "gridwidth": 2,
            "linecolor": "white",
            "showbackground": true,
            "ticks": "",
            "zerolinecolor": "white"
           }
          },
          "shapedefaults": {
           "line": {
            "color": "#2a3f5f"
           }
          },
          "ternary": {
           "aaxis": {
            "gridcolor": "white",
            "linecolor": "white",
            "ticks": ""
           },
           "baxis": {
            "gridcolor": "white",
            "linecolor": "white",
            "ticks": ""
           },
           "bgcolor": "#E5ECF6",
           "caxis": {
            "gridcolor": "white",
            "linecolor": "white",
            "ticks": ""
           }
          },
          "title": {
           "x": 0.05
          },
          "xaxis": {
           "automargin": true,
           "gridcolor": "white",
           "linecolor": "white",
           "ticks": "",
           "title": {
            "standoff": 15
           },
           "zerolinecolor": "white",
           "zerolinewidth": 2
          },
          "yaxis": {
           "automargin": true,
           "gridcolor": "white",
           "linecolor": "white",
           "ticks": "",
           "title": {
            "standoff": 15
           },
           "zerolinecolor": "white",
           "zerolinewidth": 2
          }
         }
        },
        "title": {
         "text": "Estados dos jobs ao longo do tempo"
        },
        "xaxis": {
         "anchor": "y",
         "domain": [
          0,
          0.94
         ],
         "dtick": 50,
         "title": {
          "text": "Clock"
         }
        },
        "yaxis": {
         "anchor": "x",
         "categoryarray": [
          "Chegada",
          "Ingresso",
          "ReqDisp",
          "ReqMem",
          "ReqProcess",
          "Executando",
          "FimProcess",
          "LiberaProcess",
          "LiberaMem",
          "SaidaSis",
          "Fim"
         ],
         "categoryorder": "array",
         "domain": [
          0,
          1
         ],
         "title": {
          "text": "Estado Atual"
         }
        },
        "yaxis2": {
         "anchor": "x",
         "categoryarray": [
          "Execução única",
          "Execução multipla"
         ],
         "categoryorder": "array",
         "overlaying": "y",
         "side": "right",
         "title": {
          "text": "Estado Atual"
         }
        }
       }
      },
      "text/html": [
       "<div>                            <div id=\"f407dbfe-c65c-4d8c-9967-b0892695fa7a\" class=\"plotly-graph-div\" style=\"height:525px; width:100%;\"></div>            <script type=\"text/javascript\">                require([\"plotly\"], function(Plotly) {                    window.PLOTLYENV=window.PLOTLYENV || {};                                    if (document.getElementById(\"f407dbfe-c65c-4d8c-9967-b0892695fa7a\")) {                    Plotly.newPlot(                        \"f407dbfe-c65c-4d8c-9967-b0892695fa7a\",                        [{\"mode\":\"lines+markers\",\"name\":\"job=1\",\"type\":\"scatter\",\"x\":[20,20,20,20,20,20,21,22,23,24,25,26,27,28,29,30,31,32,33,34,35,36,37,38,39,40,41,42,43,44,45,46,47,48,49,50,51,52,53,54,55,56,57,58,59,60,61,62,63,64,65,66,67,68,69,70,71,72,73,74,75,76,77,78,79,80,81,82,83,84,85,86,87,88,89,90,91,92,93,94,95,96,97,98,99,100,101,102,103,104,105,106,107,108,109,110,111,112,113,114,115,116,117,118,119,120,121,122,123,124,125,126,127,128,129,130,131,132,133,134,135,136,137,138,139,140,141,142,143,144,145,146,147,148,149,150,150,150,150,150],\"xaxis\":\"x\",\"y\":[\"Chegada\",\"Ingresso\",\"ReqDisp\",\"ReqMem\",\"ReqProcess\",\"Executando\",\"Executando\",\"Executando\",\"Executando\",\"Executando\",\"Executando\",\"Executando\",\"Executando\",\"Executando\",\"Executando\",\"Executando\",\"Executando\",\"Executando\",\"Executando\",\"Executando\",\"Executando\",\"Executando\",\"Executando\",\"Executando\",\"Executando\",\"Executando\",\"Executando\",\"Executando\",\"Executando\",\"Executando\",\"Executando\",\"Executando\",\"Executando\",\"Executando\",\"Executando\",\"Executando\",\"Executando\",\"Executando\",\"Executando\",\"Executando\",\"Executando\",\"Executando\",\"Executando\",\"Executando\",\"Executando\",\"Executando\",\"Executando\",\"Executando\",\"Executando\",\"Executando\",\"Executando\",\"Executando\",\"Executando\",\"Executando\",\"Executando\",\"Executando\",\"Executando\",\"Executando\",\"Executando\",\"Executando\",\"Executando\",\"Executando\",\"Executando\",\"Executando\",\"Executando\",\"Executando\",\"Executando\",\"Executando\",\"Executando\",\"Executando\",\"Executando\",\"Executando\",\"Executando\",\"Executando\",\"Executando\",\"Executando\",\"Executando\",\"Executando\",\"Executando\",\"Executando\",\"Executando\",\"Executando\",\"Executando\",\"Executando\",\"Executando\",\"Executando\",\"Executando\",\"Executando\",\"Executando\",\"Executando\",\"Executando\",\"Executando\",\"Executando\",\"Executando\",\"Executando\",\"Executando\",\"Executando\",\"Executando\",\"Executando\",\"Executando\",\"Executando\",\"Executando\",\"Executando\",\"Executando\",\"Executando\",\"Executando\",\"Executando\",\"Executando\",\"Executando\",\"Executando\",\"Executando\",\"Executando\",\"Executando\",\"Executando\",\"Executando\",\"Executando\",\"Executando\",\"Executando\",\"Executando\",\"Executando\",\"Executando\",\"Executando\",\"Executando\",\"Executando\",\"Executando\",\"Executando\",\"Executando\",\"Executando\",\"Executando\",\"Executando\",\"Executando\",\"Executando\",\"Executando\",\"Executando\",\"Executando\",\"Executando\",\"FimProcess\",\"LiberaProcess\",\"LiberaMem\",\"SaidaSis\"],\"yaxis\":\"y\"},{\"mode\":\"lines+markers\",\"name\":\"job=2\",\"type\":\"scatter\",\"x\":[20,20,20,20,20,20,21,22,23,24,25,26,27,28,29,30,31,32,33,34,35,36,37,38,39,40,41,42,43,44,45,46,47,48,49,50,51,52,53,54,55,56,57,58,59,60,61,62,63,64,65,66,67,68,69,70,71,72,73,74,75,76,77,78,79,80,81,82,83,84,85,86,87,88,89,90,91,92,93,94,95,96,97,98,99,100,101,102,103,104,105,106,107,108,109,110,111,112,113,114,115,116,117,118,119,120,121,122,123,124,125,126,127,128,129,130,131,132,133,134,135,136,137,138,139,140,141,142,143,144,145,146,147,148,149,150,150,150,150,150],\"xaxis\":\"x\",\"y\":[\"Chegada\",\"Ingresso\",\"ReqDisp\",\"ReqMem\",\"ReqProcess\",\"Executando\",\"Executando\",\"Executando\",\"Executando\",\"Executando\",\"Executando\",\"Executando\",\"Executando\",\"Executando\",\"Executando\",\"Executando\",\"Executando\",\"Executando\",\"Executando\",\"Executando\",\"Executando\",\"Executando\",\"Executando\",\"Executando\",\"Executando\",\"Executando\",\"Executando\",\"Executando\",\"Executando\",\"Executando\",\"Executando\",\"Executando\",\"Executando\",\"Executando\",\"Executando\",\"Executando\",\"Executando\",\"Executando\",\"Executando\",\"Executando\",\"Executando\",\"Executando\",\"Executando\",\"Executando\",\"Executando\",\"Executando\",\"Executando\",\"Executando\",\"Executando\",\"Executando\",\"Executando\",\"Executando\",\"Executando\",\"Executando\",\"Executando\",\"Executando\",\"Executando\",\"Executando\",\"Executando\",\"Executando\",\"Executando\",\"Executando\",\"Executando\",\"Executando\",\"Executando\",\"Executando\",\"Executando\",\"Executando\",\"Executando\",\"Executando\",\"Executando\",\"Executando\",\"Executando\",\"Executando\",\"Executando\",\"Executando\",\"Executando\",\"Executando\",\"Executando\",\"Executando\",\"Executando\",\"Executando\",\"Executando\",\"Executando\",\"Executando\",\"Executando\",\"Executando\",\"Executando\",\"Executando\",\"Executando\",\"Executando\",\"Executando\",\"Executando\",\"Executando\",\"Executando\",\"Executando\",\"Executando\",\"Executando\",\"Executando\",\"Executando\",\"Executando\",\"Executando\",\"Executando\",\"Executando\",\"Executando\",\"Executando\",\"Executando\",\"Executando\",\"Executando\",\"Executando\",\"Executando\",\"Executando\",\"Executando\",\"Executando\",\"Executando\",\"Executando\",\"Executando\",\"Executando\",\"Executando\",\"Executando\",\"Executando\",\"Executando\",\"Executando\",\"Executando\",\"Executando\",\"Executando\",\"Executando\",\"Executando\",\"Executando\",\"Executando\",\"Executando\",\"Executando\",\"Executando\",\"Executando\",\"Executando\",\"Executando\",\"FimProcess\",\"LiberaProcess\",\"LiberaMem\",\"SaidaSis\"],\"yaxis\":\"y\"},{\"mode\":\"lines+markers\",\"name\":\"job=3\",\"type\":\"scatter\",\"x\":[220,220,220,220,220,220,221,222,223,224,225,226,227,228,229,230,231,232,233,234,235,236,237,238,239,240,241,242,243,244,245,246,247,248,249,250,251,252,253,254,255,256,257,258,259,260,261,262,263,264,265,266,267,268,269,270,271,272,273,274,275,276,277,278,279,280,281,282,283,284,285,286,287,288,289,290,291,292,293,294,295,296,297,298,299,300,301,302,303,304,305,306,307,308,309,310,311,312,313,314,315,316,317,318,319,320,321,322,323,324,325,326,327,328,329,330,331,332,333,334,335,336,337,338,339,340,341,342,343,344,345,346,347,348,349,350,351,352,353,354,355,356,357,358,359,360,361,362,363,364,365,366,367,368,369,370,370,370,370,370],\"xaxis\":\"x\",\"y\":[\"Chegada\",\"Ingresso\",\"ReqDisp\",\"ReqMem\",\"ReqProcess\",\"Executando\",\"Executando\",\"Executando\",\"Executando\",\"Executando\",\"Executando\",\"Executando\",\"Executando\",\"Executando\",\"Executando\",\"Executando\",\"Executando\",\"Executando\",\"Executando\",\"Executando\",\"Executando\",\"Executando\",\"Executando\",\"Executando\",\"Executando\",\"Executando\",\"Executando\",\"Executando\",\"Executando\",\"Executando\",\"Executando\",\"Executando\",\"Executando\",\"Executando\",\"Executando\",\"Executando\",\"Executando\",\"Executando\",\"Executando\",\"Executando\",\"Executando\",\"Executando\",\"Executando\",\"Executando\",\"Executando\",\"Executando\",\"Executando\",\"Executando\",\"Executando\",\"Executando\",\"Executando\",\"Executando\",\"Executando\",\"Executando\",\"Executando\",\"Executando\",\"Executando\",\"Executando\",\"Executando\",\"Executando\",\"Executando\",\"Executando\",\"Executando\",\"Executando\",\"Executando\",\"Executando\",\"Executando\",\"Executando\",\"Executando\",\"Executando\",\"Executando\",\"Executando\",\"Executando\",\"Executando\",\"Executando\",\"Executando\",\"Executando\",\"Executando\",\"Executando\",\"Executando\",\"Executando\",\"Executando\",\"Executando\",\"Executando\",\"Executando\",\"Executando\",\"Executando\",\"Executando\",\"Executando\",\"Executando\",\"Executando\",\"Executando\",\"Executando\",\"Executando\",\"Executando\",\"Executando\",\"Executando\",\"Executando\",\"Executando\",\"Executando\",\"Executando\",\"Executando\",\"Executando\",\"Executando\",\"Executando\",\"Executando\",\"Executando\",\"Executando\",\"Executando\",\"Executando\",\"Executando\",\"Executando\",\"Executando\",\"Executando\",\"Executando\",\"Executando\",\"Executando\",\"Executando\",\"Executando\",\"Executando\",\"Executando\",\"Executando\",\"Executando\",\"Executando\",\"Executando\",\"Executando\",\"Executando\",\"Executando\",\"Executando\",\"Executando\",\"Executando\",\"Executando\",\"Executando\",\"Executando\",\"Executando\",\"Executando\",\"Executando\",\"Executando\",\"Executando\",\"Executando\",\"Executando\",\"Executando\",\"Executando\",\"Executando\",\"Executando\",\"Executando\",\"Executando\",\"Executando\",\"Executando\",\"Executando\",\"Executando\",\"Executando\",\"Executando\",\"Executando\",\"Executando\",\"Executando\",\"FimProcess\",\"LiberaProcess\",\"LiberaMem\",\"SaidaSis\"],\"yaxis\":\"y\"},{\"mode\":\"lines+markers\",\"name\":\"job=4\",\"type\":\"scatter\",\"x\":[240,240,240,240,240,240,241,242,243,244,245,246,247,248,249,250,251,252,253,254,255,256,257,258,259,260,261,262,263,264,265,266,267,268,269,270,271,272,273,274,275,276,277,278,279,280,281,282,283,284,285,286,287,288,289,290,291,292,293,294,295,296,297,298,299,300,301,302,303,304,305,306,307,308,309,310,311,312,313,314,315,316,317,318,319,320,321,322,323,324,325,326,327,328,329,330,331,332,333,334,335,336,337,338,339,340,341,342,343,344,345,346,347,348,349,350,351,352,353,354,355,356,357,358,359,360,361,362,363,364,365,366,367,368,369,370,371,372,373,374,375,376,377,378,379,380,381,382,383,384,385,385,385,385,385],\"xaxis\":\"x\",\"y\":[\"Chegada\",\"Ingresso\",\"ReqDisp\",\"ReqMem\",\"ReqProcess\",\"Executando\",\"Executando\",\"Executando\",\"Executando\",\"Executando\",\"Executando\",\"Executando\",\"Executando\",\"Executando\",\"Executando\",\"Executando\",\"Executando\",\"Executando\",\"Executando\",\"Executando\",\"Executando\",\"Executando\",\"Executando\",\"Executando\",\"Executando\",\"Executando\",\"Executando\",\"Executando\",\"Executando\",\"Executando\",\"Executando\",\"Executando\",\"Executando\",\"Executando\",\"Executando\",\"Executando\",\"Executando\",\"Executando\",\"Executando\",\"Executando\",\"Executando\",\"Executando\",\"Executando\",\"Executando\",\"Executando\",\"Executando\",\"Executando\",\"Executando\",\"Executando\",\"Executando\",\"Executando\",\"Executando\",\"Executando\",\"Executando\",\"Executando\",\"Executando\",\"Executando\",\"Executando\",\"Executando\",\"Executando\",\"Executando\",\"Executando\",\"Executando\",\"Executando\",\"Executando\",\"Executando\",\"Executando\",\"Executando\",\"Executando\",\"Executando\",\"Executando\",\"Executando\",\"Executando\",\"Executando\",\"Executando\",\"Executando\",\"Executando\",\"Executando\",\"Executando\",\"Executando\",\"Executando\",\"Executando\",\"Executando\",\"Executando\",\"Executando\",\"Executando\",\"Executando\",\"Executando\",\"Executando\",\"Executando\",\"Executando\",\"Executando\",\"Executando\",\"Executando\",\"Executando\",\"Executando\",\"Executando\",\"Executando\",\"Executando\",\"Executando\",\"Executando\",\"Executando\",\"Executando\",\"Executando\",\"Executando\",\"Executando\",\"Executando\",\"Executando\",\"Executando\",\"Executando\",\"Executando\",\"Executando\",\"Executando\",\"Executando\",\"Executando\",\"Executando\",\"Executando\",\"Executando\",\"Executando\",\"Executando\",\"Executando\",\"Executando\",\"Executando\",\"Executando\",\"Executando\",\"Executando\",\"Executando\",\"Executando\",\"Executando\",\"Executando\",\"Executando\",\"Executando\",\"Executando\",\"Executando\",\"Executando\",\"Executando\",\"Executando\",\"Executando\",\"Executando\",\"Executando\",\"Executando\",\"Executando\",\"Executando\",\"Executando\",\"Executando\",\"Executando\",\"Executando\",\"Executando\",\"Executando\",\"Executando\",\"Executando\",\"FimProcess\",\"LiberaProcess\",\"LiberaMem\",\"SaidaSis\"],\"yaxis\":\"y\"},{\"fill\":\"tozeroy\",\"line\":{\"color\":\"lightgray\"},\"name\":\"Execu\\u00e7\\u00e3o Multipla\",\"type\":\"scatter\",\"x\":[20,21,22,23,24,25,26,27,28,29,30,31,32,33,34,35,36,37,38,39,40,41,42,43,44,45,46,47,48,49,50,51,52,53,54,55,56,57,58,59,60,61,62,63,64,65,66,67,68,69,70,71,72,73,74,75,76,77,78,79,80,81,82,83,84,85,86,87,88,89,90,91,92,93,94,95,96,97,98,99,100,101,102,103,104,105,106,107,108,109,110,111,112,113,114,115,116,117,118,119,120,121,122,123,124,125,126,127,128,129,130,131,132,133,134,135,136,137,138,139,140,141,142,143,144,145,146,147,148,149,150,151,152,153,154,155,156,157,158,159,160,161,162,163,164,165,166,167,168,169,170,171,172,173,174,175,176,177,178,179,180,181,182,183,184,185,186,187,188,189,190,191,192,193,194,195,196,197,198,199,200,201,202,203,204,205,206,207,208,209,210,211,212,213,214,215,216,217,218,219,220,221,222,223,224,225,226,227,228,229,230,231,232,233,234,235,236,237,238,239,240,241,242,243,244,245,246,247,248,249,250,251,252,253,254,255,256,257,258,259,260,261,262,263,264,265,266,267,268,269,270,271,272,273,274,275,276,277,278,279,280,281,282,283,284,285,286,287,288,289,290,291,292,293,294,295,296,297,298,299,300,301,302,303,304,305,306,307,308,309,310,311,312,313,314,315,316,317,318,319,320,321,322,323,324,325,326,327,328,329,330,331,332,333,334,335,336,337,338,339,340,341,342,343,344,345,346,347,348,349,350,351,352,353,354,355,356,357,358,359,360,361,362,363,364,365,366,367,368,369,370,371,372,373,374,375,376,377,378,379,380,381,382,383,384,385],\"xaxis\":\"x\",\"y\":[\"Execu\\u00e7\\u00e3o multipla\",\"Execu\\u00e7\\u00e3o multipla\",\"Execu\\u00e7\\u00e3o multipla\",\"Execu\\u00e7\\u00e3o multipla\",\"Execu\\u00e7\\u00e3o multipla\",\"Execu\\u00e7\\u00e3o multipla\",\"Execu\\u00e7\\u00e3o multipla\",\"Execu\\u00e7\\u00e3o multipla\",\"Execu\\u00e7\\u00e3o multipla\",\"Execu\\u00e7\\u00e3o multipla\",\"Execu\\u00e7\\u00e3o multipla\",\"Execu\\u00e7\\u00e3o multipla\",\"Execu\\u00e7\\u00e3o multipla\",\"Execu\\u00e7\\u00e3o multipla\",\"Execu\\u00e7\\u00e3o multipla\",\"Execu\\u00e7\\u00e3o multipla\",\"Execu\\u00e7\\u00e3o multipla\",\"Execu\\u00e7\\u00e3o multipla\",\"Execu\\u00e7\\u00e3o multipla\",\"Execu\\u00e7\\u00e3o multipla\",\"Execu\\u00e7\\u00e3o multipla\",\"Execu\\u00e7\\u00e3o multipla\",\"Execu\\u00e7\\u00e3o multipla\",\"Execu\\u00e7\\u00e3o multipla\",\"Execu\\u00e7\\u00e3o multipla\",\"Execu\\u00e7\\u00e3o multipla\",\"Execu\\u00e7\\u00e3o multipla\",\"Execu\\u00e7\\u00e3o multipla\",\"Execu\\u00e7\\u00e3o multipla\",\"Execu\\u00e7\\u00e3o multipla\",\"Execu\\u00e7\\u00e3o multipla\",\"Execu\\u00e7\\u00e3o multipla\",\"Execu\\u00e7\\u00e3o multipla\",\"Execu\\u00e7\\u00e3o multipla\",\"Execu\\u00e7\\u00e3o multipla\",\"Execu\\u00e7\\u00e3o multipla\",\"Execu\\u00e7\\u00e3o multipla\",\"Execu\\u00e7\\u00e3o multipla\",\"Execu\\u00e7\\u00e3o multipla\",\"Execu\\u00e7\\u00e3o multipla\",\"Execu\\u00e7\\u00e3o multipla\",\"Execu\\u00e7\\u00e3o multipla\",\"Execu\\u00e7\\u00e3o multipla\",\"Execu\\u00e7\\u00e3o multipla\",\"Execu\\u00e7\\u00e3o multipla\",\"Execu\\u00e7\\u00e3o multipla\",\"Execu\\u00e7\\u00e3o multipla\",\"Execu\\u00e7\\u00e3o multipla\",\"Execu\\u00e7\\u00e3o multipla\",\"Execu\\u00e7\\u00e3o multipla\",\"Execu\\u00e7\\u00e3o multipla\",\"Execu\\u00e7\\u00e3o multipla\",\"Execu\\u00e7\\u00e3o multipla\",\"Execu\\u00e7\\u00e3o multipla\",\"Execu\\u00e7\\u00e3o multipla\",\"Execu\\u00e7\\u00e3o multipla\",\"Execu\\u00e7\\u00e3o multipla\",\"Execu\\u00e7\\u00e3o multipla\",\"Execu\\u00e7\\u00e3o multipla\",\"Execu\\u00e7\\u00e3o multipla\",\"Execu\\u00e7\\u00e3o multipla\",\"Execu\\u00e7\\u00e3o multipla\",\"Execu\\u00e7\\u00e3o multipla\",\"Execu\\u00e7\\u00e3o multipla\",\"Execu\\u00e7\\u00e3o multipla\",\"Execu\\u00e7\\u00e3o multipla\",\"Execu\\u00e7\\u00e3o multipla\",\"Execu\\u00e7\\u00e3o multipla\",\"Execu\\u00e7\\u00e3o multipla\",\"Execu\\u00e7\\u00e3o multipla\",\"Execu\\u00e7\\u00e3o multipla\",\"Execu\\u00e7\\u00e3o multipla\",\"Execu\\u00e7\\u00e3o multipla\",\"Execu\\u00e7\\u00e3o multipla\",\"Execu\\u00e7\\u00e3o multipla\",\"Execu\\u00e7\\u00e3o multipla\",\"Execu\\u00e7\\u00e3o multipla\",\"Execu\\u00e7\\u00e3o multipla\",\"Execu\\u00e7\\u00e3o multipla\",\"Execu\\u00e7\\u00e3o multipla\",\"Execu\\u00e7\\u00e3o multipla\",\"Execu\\u00e7\\u00e3o multipla\",\"Execu\\u00e7\\u00e3o multipla\",\"Execu\\u00e7\\u00e3o multipla\",\"Execu\\u00e7\\u00e3o multipla\",\"Execu\\u00e7\\u00e3o multipla\",\"Execu\\u00e7\\u00e3o multipla\",\"Execu\\u00e7\\u00e3o multipla\",\"Execu\\u00e7\\u00e3o multipla\",\"Execu\\u00e7\\u00e3o multipla\",\"Execu\\u00e7\\u00e3o multipla\",\"Execu\\u00e7\\u00e3o multipla\",\"Execu\\u00e7\\u00e3o multipla\",\"Execu\\u00e7\\u00e3o multipla\",\"Execu\\u00e7\\u00e3o multipla\",\"Execu\\u00e7\\u00e3o multipla\",\"Execu\\u00e7\\u00e3o multipla\",\"Execu\\u00e7\\u00e3o multipla\",\"Execu\\u00e7\\u00e3o multipla\",\"Execu\\u00e7\\u00e3o multipla\",\"Execu\\u00e7\\u00e3o multipla\",\"Execu\\u00e7\\u00e3o multipla\",\"Execu\\u00e7\\u00e3o multipla\",\"Execu\\u00e7\\u00e3o multipla\",\"Execu\\u00e7\\u00e3o multipla\",\"Execu\\u00e7\\u00e3o multipla\",\"Execu\\u00e7\\u00e3o multipla\",\"Execu\\u00e7\\u00e3o multipla\",\"Execu\\u00e7\\u00e3o multipla\",\"Execu\\u00e7\\u00e3o multipla\",\"Execu\\u00e7\\u00e3o multipla\",\"Execu\\u00e7\\u00e3o multipla\",\"Execu\\u00e7\\u00e3o multipla\",\"Execu\\u00e7\\u00e3o multipla\",\"Execu\\u00e7\\u00e3o multipla\",\"Execu\\u00e7\\u00e3o multipla\",\"Execu\\u00e7\\u00e3o multipla\",\"Execu\\u00e7\\u00e3o multipla\",\"Execu\\u00e7\\u00e3o multipla\",\"Execu\\u00e7\\u00e3o multipla\",\"Execu\\u00e7\\u00e3o multipla\",\"Execu\\u00e7\\u00e3o multipla\",\"Execu\\u00e7\\u00e3o multipla\",\"Execu\\u00e7\\u00e3o multipla\",\"Execu\\u00e7\\u00e3o multipla\",\"Execu\\u00e7\\u00e3o multipla\",\"Execu\\u00e7\\u00e3o multipla\",\"Execu\\u00e7\\u00e3o multipla\",\"Execu\\u00e7\\u00e3o multipla\",\"Execu\\u00e7\\u00e3o multipla\",\"Execu\\u00e7\\u00e3o multipla\",\"Execu\\u00e7\\u00e3o \\u00fanica\",\"Execu\\u00e7\\u00e3o \\u00fanica\",\"Execu\\u00e7\\u00e3o \\u00fanica\",\"Execu\\u00e7\\u00e3o \\u00fanica\",\"Execu\\u00e7\\u00e3o \\u00fanica\",\"Execu\\u00e7\\u00e3o \\u00fanica\",\"Execu\\u00e7\\u00e3o \\u00fanica\",\"Execu\\u00e7\\u00e3o \\u00fanica\",\"Execu\\u00e7\\u00e3o \\u00fanica\",\"Execu\\u00e7\\u00e3o \\u00fanica\",\"Execu\\u00e7\\u00e3o \\u00fanica\",\"Execu\\u00e7\\u00e3o \\u00fanica\",\"Execu\\u00e7\\u00e3o \\u00fanica\",\"Execu\\u00e7\\u00e3o \\u00fanica\",\"Execu\\u00e7\\u00e3o \\u00fanica\",\"Execu\\u00e7\\u00e3o \\u00fanica\",\"Execu\\u00e7\\u00e3o \\u00fanica\",\"Execu\\u00e7\\u00e3o \\u00fanica\",\"Execu\\u00e7\\u00e3o \\u00fanica\",\"Execu\\u00e7\\u00e3o \\u00fanica\",\"Execu\\u00e7\\u00e3o \\u00fanica\",\"Execu\\u00e7\\u00e3o \\u00fanica\",\"Execu\\u00e7\\u00e3o \\u00fanica\",\"Execu\\u00e7\\u00e3o \\u00fanica\",\"Execu\\u00e7\\u00e3o \\u00fanica\",\"Execu\\u00e7\\u00e3o \\u00fanica\",\"Execu\\u00e7\\u00e3o \\u00fanica\",\"Execu\\u00e7\\u00e3o \\u00fanica\",\"Execu\\u00e7\\u00e3o \\u00fanica\",\"Execu\\u00e7\\u00e3o \\u00fanica\",\"Execu\\u00e7\\u00e3o \\u00fanica\",\"Execu\\u00e7\\u00e3o \\u00fanica\",\"Execu\\u00e7\\u00e3o \\u00fanica\",\"Execu\\u00e7\\u00e3o \\u00fanica\",\"Execu\\u00e7\\u00e3o \\u00fanica\",\"Execu\\u00e7\\u00e3o \\u00fanica\",\"Execu\\u00e7\\u00e3o \\u00fanica\",\"Execu\\u00e7\\u00e3o \\u00fanica\",\"Execu\\u00e7\\u00e3o \\u00fanica\",\"Execu\\u00e7\\u00e3o \\u00fanica\",\"Execu\\u00e7\\u00e3o \\u00fanica\",\"Execu\\u00e7\\u00e3o \\u00fanica\",\"Execu\\u00e7\\u00e3o \\u00fanica\",\"Execu\\u00e7\\u00e3o \\u00fanica\",\"Execu\\u00e7\\u00e3o \\u00fanica\",\"Execu\\u00e7\\u00e3o \\u00fanica\",\"Execu\\u00e7\\u00e3o \\u00fanica\",\"Execu\\u00e7\\u00e3o \\u00fanica\",\"Execu\\u00e7\\u00e3o \\u00fanica\",\"Execu\\u00e7\\u00e3o \\u00fanica\",\"Execu\\u00e7\\u00e3o \\u00fanica\",\"Execu\\u00e7\\u00e3o \\u00fanica\",\"Execu\\u00e7\\u00e3o \\u00fanica\",\"Execu\\u00e7\\u00e3o \\u00fanica\",\"Execu\\u00e7\\u00e3o \\u00fanica\",\"Execu\\u00e7\\u00e3o \\u00fanica\",\"Execu\\u00e7\\u00e3o \\u00fanica\",\"Execu\\u00e7\\u00e3o \\u00fanica\",\"Execu\\u00e7\\u00e3o \\u00fanica\",\"Execu\\u00e7\\u00e3o \\u00fanica\",\"Execu\\u00e7\\u00e3o \\u00fanica\",\"Execu\\u00e7\\u00e3o \\u00fanica\",\"Execu\\u00e7\\u00e3o \\u00fanica\",\"Execu\\u00e7\\u00e3o \\u00fanica\",\"Execu\\u00e7\\u00e3o \\u00fanica\",\"Execu\\u00e7\\u00e3o \\u00fanica\",\"Execu\\u00e7\\u00e3o \\u00fanica\",\"Execu\\u00e7\\u00e3o \\u00fanica\",\"Execu\\u00e7\\u00e3o \\u00fanica\",\"Execu\\u00e7\\u00e3o \\u00fanica\",\"Execu\\u00e7\\u00e3o \\u00fanica\",\"Execu\\u00e7\\u00e3o \\u00fanica\",\"Execu\\u00e7\\u00e3o \\u00fanica\",\"Execu\\u00e7\\u00e3o \\u00fanica\",\"Execu\\u00e7\\u00e3o \\u00fanica\",\"Execu\\u00e7\\u00e3o \\u00fanica\",\"Execu\\u00e7\\u00e3o \\u00fanica\",\"Execu\\u00e7\\u00e3o \\u00fanica\",\"Execu\\u00e7\\u00e3o \\u00fanica\",\"Execu\\u00e7\\u00e3o \\u00fanica\",\"Execu\\u00e7\\u00e3o \\u00fanica\",\"Execu\\u00e7\\u00e3o \\u00fanica\",\"Execu\\u00e7\\u00e3o \\u00fanica\",\"Execu\\u00e7\\u00e3o \\u00fanica\",\"Execu\\u00e7\\u00e3o \\u00fanica\",\"Execu\\u00e7\\u00e3o \\u00fanica\",\"Execu\\u00e7\\u00e3o \\u00fanica\",\"Execu\\u00e7\\u00e3o \\u00fanica\",\"Execu\\u00e7\\u00e3o \\u00fanica\",\"Execu\\u00e7\\u00e3o \\u00fanica\",\"Execu\\u00e7\\u00e3o multipla\",\"Execu\\u00e7\\u00e3o multipla\",\"Execu\\u00e7\\u00e3o multipla\",\"Execu\\u00e7\\u00e3o multipla\",\"Execu\\u00e7\\u00e3o multipla\",\"Execu\\u00e7\\u00e3o multipla\",\"Execu\\u00e7\\u00e3o multipla\",\"Execu\\u00e7\\u00e3o multipla\",\"Execu\\u00e7\\u00e3o multipla\",\"Execu\\u00e7\\u00e3o multipla\",\"Execu\\u00e7\\u00e3o multipla\",\"Execu\\u00e7\\u00e3o multipla\",\"Execu\\u00e7\\u00e3o multipla\",\"Execu\\u00e7\\u00e3o multipla\",\"Execu\\u00e7\\u00e3o multipla\",\"Execu\\u00e7\\u00e3o multipla\",\"Execu\\u00e7\\u00e3o multipla\",\"Execu\\u00e7\\u00e3o multipla\",\"Execu\\u00e7\\u00e3o multipla\",\"Execu\\u00e7\\u00e3o multipla\",\"Execu\\u00e7\\u00e3o multipla\",\"Execu\\u00e7\\u00e3o multipla\",\"Execu\\u00e7\\u00e3o multipla\",\"Execu\\u00e7\\u00e3o multipla\",\"Execu\\u00e7\\u00e3o multipla\",\"Execu\\u00e7\\u00e3o multipla\",\"Execu\\u00e7\\u00e3o multipla\",\"Execu\\u00e7\\u00e3o multipla\",\"Execu\\u00e7\\u00e3o multipla\",\"Execu\\u00e7\\u00e3o multipla\",\"Execu\\u00e7\\u00e3o multipla\",\"Execu\\u00e7\\u00e3o multipla\",\"Execu\\u00e7\\u00e3o multipla\",\"Execu\\u00e7\\u00e3o multipla\",\"Execu\\u00e7\\u00e3o multipla\",\"Execu\\u00e7\\u00e3o multipla\",\"Execu\\u00e7\\u00e3o multipla\",\"Execu\\u00e7\\u00e3o multipla\",\"Execu\\u00e7\\u00e3o multipla\",\"Execu\\u00e7\\u00e3o multipla\",\"Execu\\u00e7\\u00e3o multipla\",\"Execu\\u00e7\\u00e3o multipla\",\"Execu\\u00e7\\u00e3o multipla\",\"Execu\\u00e7\\u00e3o multipla\",\"Execu\\u00e7\\u00e3o multipla\",\"Execu\\u00e7\\u00e3o multipla\",\"Execu\\u00e7\\u00e3o multipla\",\"Execu\\u00e7\\u00e3o multipla\",\"Execu\\u00e7\\u00e3o multipla\",\"Execu\\u00e7\\u00e3o multipla\",\"Execu\\u00e7\\u00e3o multipla\",\"Execu\\u00e7\\u00e3o multipla\",\"Execu\\u00e7\\u00e3o multipla\",\"Execu\\u00e7\\u00e3o multipla\",\"Execu\\u00e7\\u00e3o multipla\",\"Execu\\u00e7\\u00e3o multipla\",\"Execu\\u00e7\\u00e3o multipla\",\"Execu\\u00e7\\u00e3o multipla\",\"Execu\\u00e7\\u00e3o multipla\",\"Execu\\u00e7\\u00e3o multipla\",\"Execu\\u00e7\\u00e3o multipla\",\"Execu\\u00e7\\u00e3o multipla\",\"Execu\\u00e7\\u00e3o multipla\",\"Execu\\u00e7\\u00e3o multipla\",\"Execu\\u00e7\\u00e3o multipla\",\"Execu\\u00e7\\u00e3o multipla\",\"Execu\\u00e7\\u00e3o multipla\",\"Execu\\u00e7\\u00e3o multipla\",\"Execu\\u00e7\\u00e3o multipla\",\"Execu\\u00e7\\u00e3o multipla\",\"Execu\\u00e7\\u00e3o multipla\",\"Execu\\u00e7\\u00e3o multipla\",\"Execu\\u00e7\\u00e3o multipla\",\"Execu\\u00e7\\u00e3o multipla\",\"Execu\\u00e7\\u00e3o multipla\",\"Execu\\u00e7\\u00e3o multipla\",\"Execu\\u00e7\\u00e3o multipla\",\"Execu\\u00e7\\u00e3o multipla\",\"Execu\\u00e7\\u00e3o multipla\",\"Execu\\u00e7\\u00e3o multipla\",\"Execu\\u00e7\\u00e3o multipla\",\"Execu\\u00e7\\u00e3o multipla\",\"Execu\\u00e7\\u00e3o multipla\",\"Execu\\u00e7\\u00e3o multipla\",\"Execu\\u00e7\\u00e3o multipla\",\"Execu\\u00e7\\u00e3o multipla\",\"Execu\\u00e7\\u00e3o multipla\",\"Execu\\u00e7\\u00e3o multipla\",\"Execu\\u00e7\\u00e3o multipla\",\"Execu\\u00e7\\u00e3o multipla\",\"Execu\\u00e7\\u00e3o multipla\",\"Execu\\u00e7\\u00e3o multipla\",\"Execu\\u00e7\\u00e3o multipla\",\"Execu\\u00e7\\u00e3o multipla\",\"Execu\\u00e7\\u00e3o multipla\",\"Execu\\u00e7\\u00e3o multipla\",\"Execu\\u00e7\\u00e3o multipla\",\"Execu\\u00e7\\u00e3o multipla\",\"Execu\\u00e7\\u00e3o multipla\",\"Execu\\u00e7\\u00e3o multipla\",\"Execu\\u00e7\\u00e3o multipla\",\"Execu\\u00e7\\u00e3o multipla\",\"Execu\\u00e7\\u00e3o multipla\",\"Execu\\u00e7\\u00e3o multipla\",\"Execu\\u00e7\\u00e3o multipla\",\"Execu\\u00e7\\u00e3o multipla\",\"Execu\\u00e7\\u00e3o multipla\",\"Execu\\u00e7\\u00e3o multipla\",\"Execu\\u00e7\\u00e3o multipla\",\"Execu\\u00e7\\u00e3o multipla\",\"Execu\\u00e7\\u00e3o multipla\",\"Execu\\u00e7\\u00e3o multipla\",\"Execu\\u00e7\\u00e3o multipla\",\"Execu\\u00e7\\u00e3o multipla\",\"Execu\\u00e7\\u00e3o multipla\",\"Execu\\u00e7\\u00e3o multipla\",\"Execu\\u00e7\\u00e3o multipla\",\"Execu\\u00e7\\u00e3o multipla\",\"Execu\\u00e7\\u00e3o multipla\",\"Execu\\u00e7\\u00e3o multipla\",\"Execu\\u00e7\\u00e3o multipla\",\"Execu\\u00e7\\u00e3o multipla\",\"Execu\\u00e7\\u00e3o multipla\",\"Execu\\u00e7\\u00e3o multipla\",\"Execu\\u00e7\\u00e3o multipla\",\"Execu\\u00e7\\u00e3o multipla\",\"Execu\\u00e7\\u00e3o multipla\",\"Execu\\u00e7\\u00e3o multipla\",\"Execu\\u00e7\\u00e3o multipla\",\"Execu\\u00e7\\u00e3o multipla\",\"Execu\\u00e7\\u00e3o multipla\",\"Execu\\u00e7\\u00e3o \\u00fanica\",\"Execu\\u00e7\\u00e3o \\u00fanica\",\"Execu\\u00e7\\u00e3o \\u00fanica\",\"Execu\\u00e7\\u00e3o \\u00fanica\",\"Execu\\u00e7\\u00e3o \\u00fanica\",\"Execu\\u00e7\\u00e3o \\u00fanica\",\"Execu\\u00e7\\u00e3o \\u00fanica\",\"Execu\\u00e7\\u00e3o \\u00fanica\",\"Execu\\u00e7\\u00e3o \\u00fanica\",\"Execu\\u00e7\\u00e3o \\u00fanica\",\"Execu\\u00e7\\u00e3o \\u00fanica\",\"Execu\\u00e7\\u00e3o \\u00fanica\",\"Execu\\u00e7\\u00e3o \\u00fanica\",\"Execu\\u00e7\\u00e3o \\u00fanica\"],\"yaxis\":\"y2\"}],                        {\"plot_bgcolor\":\"white\",\"template\":{\"data\":{\"bar\":[{\"error_x\":{\"color\":\"#2a3f5f\"},\"error_y\":{\"color\":\"#2a3f5f\"},\"marker\":{\"line\":{\"color\":\"#E5ECF6\",\"width\":0.5},\"pattern\":{\"fillmode\":\"overlay\",\"size\":10,\"solidity\":0.2}},\"type\":\"bar\"}],\"barpolar\":[{\"marker\":{\"line\":{\"color\":\"#E5ECF6\",\"width\":0.5},\"pattern\":{\"fillmode\":\"overlay\",\"size\":10,\"solidity\":0.2}},\"type\":\"barpolar\"}],\"carpet\":[{\"aaxis\":{\"endlinecolor\":\"#2a3f5f\",\"gridcolor\":\"white\",\"linecolor\":\"white\",\"minorgridcolor\":\"white\",\"startlinecolor\":\"#2a3f5f\"},\"baxis\":{\"endlinecolor\":\"#2a3f5f\",\"gridcolor\":\"white\",\"linecolor\":\"white\",\"minorgridcolor\":\"white\",\"startlinecolor\":\"#2a3f5f\"},\"type\":\"carpet\"}],\"choropleth\":[{\"colorbar\":{\"outlinewidth\":0,\"ticks\":\"\"},\"type\":\"choropleth\"}],\"contour\":[{\"colorbar\":{\"outlinewidth\":0,\"ticks\":\"\"},\"colorscale\":[[0.0,\"#0d0887\"],[0.1111111111111111,\"#46039f\"],[0.2222222222222222,\"#7201a8\"],[0.3333333333333333,\"#9c179e\"],[0.4444444444444444,\"#bd3786\"],[0.5555555555555556,\"#d8576b\"],[0.6666666666666666,\"#ed7953\"],[0.7777777777777778,\"#fb9f3a\"],[0.8888888888888888,\"#fdca26\"],[1.0,\"#f0f921\"]],\"type\":\"contour\"}],\"contourcarpet\":[{\"colorbar\":{\"outlinewidth\":0,\"ticks\":\"\"},\"type\":\"contourcarpet\"}],\"heatmap\":[{\"colorbar\":{\"outlinewidth\":0,\"ticks\":\"\"},\"colorscale\":[[0.0,\"#0d0887\"],[0.1111111111111111,\"#46039f\"],[0.2222222222222222,\"#7201a8\"],[0.3333333333333333,\"#9c179e\"],[0.4444444444444444,\"#bd3786\"],[0.5555555555555556,\"#d8576b\"],[0.6666666666666666,\"#ed7953\"],[0.7777777777777778,\"#fb9f3a\"],[0.8888888888888888,\"#fdca26\"],[1.0,\"#f0f921\"]],\"type\":\"heatmap\"}],\"heatmapgl\":[{\"colorbar\":{\"outlinewidth\":0,\"ticks\":\"\"},\"colorscale\":[[0.0,\"#0d0887\"],[0.1111111111111111,\"#46039f\"],[0.2222222222222222,\"#7201a8\"],[0.3333333333333333,\"#9c179e\"],[0.4444444444444444,\"#bd3786\"],[0.5555555555555556,\"#d8576b\"],[0.6666666666666666,\"#ed7953\"],[0.7777777777777778,\"#fb9f3a\"],[0.8888888888888888,\"#fdca26\"],[1.0,\"#f0f921\"]],\"type\":\"heatmapgl\"}],\"histogram\":[{\"marker\":{\"pattern\":{\"fillmode\":\"overlay\",\"size\":10,\"solidity\":0.2}},\"type\":\"histogram\"}],\"histogram2d\":[{\"colorbar\":{\"outlinewidth\":0,\"ticks\":\"\"},\"colorscale\":[[0.0,\"#0d0887\"],[0.1111111111111111,\"#46039f\"],[0.2222222222222222,\"#7201a8\"],[0.3333333333333333,\"#9c179e\"],[0.4444444444444444,\"#bd3786\"],[0.5555555555555556,\"#d8576b\"],[0.6666666666666666,\"#ed7953\"],[0.7777777777777778,\"#fb9f3a\"],[0.8888888888888888,\"#fdca26\"],[1.0,\"#f0f921\"]],\"type\":\"histogram2d\"}],\"histogram2dcontour\":[{\"colorbar\":{\"outlinewidth\":0,\"ticks\":\"\"},\"colorscale\":[[0.0,\"#0d0887\"],[0.1111111111111111,\"#46039f\"],[0.2222222222222222,\"#7201a8\"],[0.3333333333333333,\"#9c179e\"],[0.4444444444444444,\"#bd3786\"],[0.5555555555555556,\"#d8576b\"],[0.6666666666666666,\"#ed7953\"],[0.7777777777777778,\"#fb9f3a\"],[0.8888888888888888,\"#fdca26\"],[1.0,\"#f0f921\"]],\"type\":\"histogram2dcontour\"}],\"mesh3d\":[{\"colorbar\":{\"outlinewidth\":0,\"ticks\":\"\"},\"type\":\"mesh3d\"}],\"parcoords\":[{\"line\":{\"colorbar\":{\"outlinewidth\":0,\"ticks\":\"\"}},\"type\":\"parcoords\"}],\"pie\":[{\"automargin\":true,\"type\":\"pie\"}],\"scatter\":[{\"marker\":{\"colorbar\":{\"outlinewidth\":0,\"ticks\":\"\"}},\"type\":\"scatter\"}],\"scatter3d\":[{\"line\":{\"colorbar\":{\"outlinewidth\":0,\"ticks\":\"\"}},\"marker\":{\"colorbar\":{\"outlinewidth\":0,\"ticks\":\"\"}},\"type\":\"scatter3d\"}],\"scattercarpet\":[{\"marker\":{\"colorbar\":{\"outlinewidth\":0,\"ticks\":\"\"}},\"type\":\"scattercarpet\"}],\"scattergeo\":[{\"marker\":{\"colorbar\":{\"outlinewidth\":0,\"ticks\":\"\"}},\"type\":\"scattergeo\"}],\"scattergl\":[{\"marker\":{\"colorbar\":{\"outlinewidth\":0,\"ticks\":\"\"}},\"type\":\"scattergl\"}],\"scattermapbox\":[{\"marker\":{\"colorbar\":{\"outlinewidth\":0,\"ticks\":\"\"}},\"type\":\"scattermapbox\"}],\"scatterpolar\":[{\"marker\":{\"colorbar\":{\"outlinewidth\":0,\"ticks\":\"\"}},\"type\":\"scatterpolar\"}],\"scatterpolargl\":[{\"marker\":{\"colorbar\":{\"outlinewidth\":0,\"ticks\":\"\"}},\"type\":\"scatterpolargl\"}],\"scatterternary\":[{\"marker\":{\"colorbar\":{\"outlinewidth\":0,\"ticks\":\"\"}},\"type\":\"scatterternary\"}],\"surface\":[{\"colorbar\":{\"outlinewidth\":0,\"ticks\":\"\"},\"colorscale\":[[0.0,\"#0d0887\"],[0.1111111111111111,\"#46039f\"],[0.2222222222222222,\"#7201a8\"],[0.3333333333333333,\"#9c179e\"],[0.4444444444444444,\"#bd3786\"],[0.5555555555555556,\"#d8576b\"],[0.6666666666666666,\"#ed7953\"],[0.7777777777777778,\"#fb9f3a\"],[0.8888888888888888,\"#fdca26\"],[1.0,\"#f0f921\"]],\"type\":\"surface\"}],\"table\":[{\"cells\":{\"fill\":{\"color\":\"#EBF0F8\"},\"line\":{\"color\":\"white\"}},\"header\":{\"fill\":{\"color\":\"#C8D4E3\"},\"line\":{\"color\":\"white\"}},\"type\":\"table\"}]},\"layout\":{\"annotationdefaults\":{\"arrowcolor\":\"#2a3f5f\",\"arrowhead\":0,\"arrowwidth\":1},\"autotypenumbers\":\"strict\",\"coloraxis\":{\"colorbar\":{\"outlinewidth\":0,\"ticks\":\"\"}},\"colorscale\":{\"diverging\":[[0,\"#8e0152\"],[0.1,\"#c51b7d\"],[0.2,\"#de77ae\"],[0.3,\"#f1b6da\"],[0.4,\"#fde0ef\"],[0.5,\"#f7f7f7\"],[0.6,\"#e6f5d0\"],[0.7,\"#b8e186\"],[0.8,\"#7fbc41\"],[0.9,\"#4d9221\"],[1,\"#276419\"]],\"sequential\":[[0.0,\"#0d0887\"],[0.1111111111111111,\"#46039f\"],[0.2222222222222222,\"#7201a8\"],[0.3333333333333333,\"#9c179e\"],[0.4444444444444444,\"#bd3786\"],[0.5555555555555556,\"#d8576b\"],[0.6666666666666666,\"#ed7953\"],[0.7777777777777778,\"#fb9f3a\"],[0.8888888888888888,\"#fdca26\"],[1.0,\"#f0f921\"]],\"sequentialminus\":[[0.0,\"#0d0887\"],[0.1111111111111111,\"#46039f\"],[0.2222222222222222,\"#7201a8\"],[0.3333333333333333,\"#9c179e\"],[0.4444444444444444,\"#bd3786\"],[0.5555555555555556,\"#d8576b\"],[0.6666666666666666,\"#ed7953\"],[0.7777777777777778,\"#fb9f3a\"],[0.8888888888888888,\"#fdca26\"],[1.0,\"#f0f921\"]]},\"colorway\":[\"#636efa\",\"#EF553B\",\"#00cc96\",\"#ab63fa\",\"#FFA15A\",\"#19d3f3\",\"#FF6692\",\"#B6E880\",\"#FF97FF\",\"#FECB52\"],\"font\":{\"color\":\"#2a3f5f\"},\"geo\":{\"bgcolor\":\"white\",\"lakecolor\":\"white\",\"landcolor\":\"#E5ECF6\",\"showlakes\":true,\"showland\":true,\"subunitcolor\":\"white\"},\"hoverlabel\":{\"align\":\"left\"},\"hovermode\":\"closest\",\"mapbox\":{\"style\":\"light\"},\"paper_bgcolor\":\"white\",\"plot_bgcolor\":\"#E5ECF6\",\"polar\":{\"angularaxis\":{\"gridcolor\":\"white\",\"linecolor\":\"white\",\"ticks\":\"\"},\"bgcolor\":\"#E5ECF6\",\"radialaxis\":{\"gridcolor\":\"white\",\"linecolor\":\"white\",\"ticks\":\"\"}},\"scene\":{\"xaxis\":{\"backgroundcolor\":\"#E5ECF6\",\"gridcolor\":\"white\",\"gridwidth\":2,\"linecolor\":\"white\",\"showbackground\":true,\"ticks\":\"\",\"zerolinecolor\":\"white\"},\"yaxis\":{\"backgroundcolor\":\"#E5ECF6\",\"gridcolor\":\"white\",\"gridwidth\":2,\"linecolor\":\"white\",\"showbackground\":true,\"ticks\":\"\",\"zerolinecolor\":\"white\"},\"zaxis\":{\"backgroundcolor\":\"#E5ECF6\",\"gridcolor\":\"white\",\"gridwidth\":2,\"linecolor\":\"white\",\"showbackground\":true,\"ticks\":\"\",\"zerolinecolor\":\"white\"}},\"shapedefaults\":{\"line\":{\"color\":\"#2a3f5f\"}},\"ternary\":{\"aaxis\":{\"gridcolor\":\"white\",\"linecolor\":\"white\",\"ticks\":\"\"},\"baxis\":{\"gridcolor\":\"white\",\"linecolor\":\"white\",\"ticks\":\"\"},\"bgcolor\":\"#E5ECF6\",\"caxis\":{\"gridcolor\":\"white\",\"linecolor\":\"white\",\"ticks\":\"\"}},\"title\":{\"x\":0.05},\"xaxis\":{\"automargin\":true,\"gridcolor\":\"white\",\"linecolor\":\"white\",\"ticks\":\"\",\"title\":{\"standoff\":15},\"zerolinecolor\":\"white\",\"zerolinewidth\":2},\"yaxis\":{\"automargin\":true,\"gridcolor\":\"white\",\"linecolor\":\"white\",\"ticks\":\"\",\"title\":{\"standoff\":15},\"zerolinecolor\":\"white\",\"zerolinewidth\":2}}},\"title\":{\"text\":\"Estados dos jobs ao longo do tempo\"},\"xaxis\":{\"anchor\":\"y\",\"domain\":[0.0,0.94],\"dtick\":50,\"title\":{\"text\":\"Clock\"}},\"yaxis\":{\"anchor\":\"x\",\"categoryarray\":[\"Chegada\",\"Ingresso\",\"ReqDisp\",\"ReqMem\",\"ReqProcess\",\"Executando\",\"FimProcess\",\"LiberaProcess\",\"LiberaMem\",\"SaidaSis\",\"Fim\"],\"categoryorder\":\"array\",\"domain\":[0.0,1.0],\"title\":{\"text\":\"Estado Atual\"}},\"yaxis2\":{\"anchor\":\"x\",\"categoryarray\":[\"Execu\\u00e7\\u00e3o \\u00fanica\",\"Execu\\u00e7\\u00e3o multipla\"],\"categoryorder\":\"array\",\"overlaying\":\"y\",\"side\":\"right\",\"title\":{\"text\":\"Estado Atual\"}}},                        {\"responsive\": true}                    ).then(function(){\n",
       "                            \n",
       "var gd = document.getElementById('f407dbfe-c65c-4d8c-9967-b0892695fa7a');\n",
       "var x = new MutationObserver(function (mutations, observer) {{\n",
       "        var display = window.getComputedStyle(gd).display;\n",
       "        if (!display || display === 'none') {{\n",
       "            console.log([gd, 'removed!']);\n",
       "            Plotly.purge(gd);\n",
       "            observer.disconnect();\n",
       "        }}\n",
       "}});\n",
       "\n",
       "// Listen for the removal of the full notebook cells\n",
       "var notebookContainer = gd.closest('#notebook-container');\n",
       "if (notebookContainer) {{\n",
       "    x.observe(notebookContainer, {childList: true});\n",
       "}}\n",
       "\n",
       "// Listen for the clearing of the current output cell\n",
       "var outputEl = gd.closest('.output');\n",
       "if (outputEl) {{\n",
       "    x.observe(outputEl, {childList: true});\n",
       "}}\n",
       "\n",
       "                        })                };                });            </script>        </div>"
      ]
     },
     "metadata": {},
     "output_type": "display_data"
    }
   ],
   "source": [
    "is_multiprog = pd.DataFrame(\n",
    "    multiprog_on, columns=['is_multiprog'])\n",
    "\n",
    "# # fig = go.Figure()\n",
    "\n",
    "trace = go.Scatter(x=is_multiprog.index+20,\n",
    "                   y=is_multiprog.is_multiprog,\n",
    "                   fill='tozeroy',\n",
    "                   line_color='lightgray',\n",
    "                   name='Execução Multipla')\n",
    "fig.update_layout(yaxis2={'categoryarray': [\n",
    "                  'Execução única', 'Execução multipla'], 'categoryorder': \"array\"})\n",
    "\n",
    "fig.add_trace(trace, secondary_y=True)\n",
    "\n",
    "fig.update_xaxes(title=\"Clock\", dtick=50)\n",
    "fig.update_yaxes(title=\"Estado Atual\")"
   ]
  },
  {
   "cell_type": "code",
   "execution_count": 19,
   "id": "003e0f51",
   "metadata": {},
   "outputs": [
    {
     "data": {
      "application/vnd.plotly.v1+json": {
       "config": {
        "plotlyServerURL": "https://plot.ly"
       },
       "data": [
        {
         "type": "scatter",
         "x": [
          0,
          1,
          2,
          3,
          4,
          5,
          6,
          7,
          8,
          9,
          10,
          11,
          12,
          13,
          14,
          15,
          16,
          17,
          18,
          19,
          20,
          20,
          20,
          20,
          20,
          20,
          21,
          22,
          23,
          24,
          25,
          26,
          27,
          28,
          29,
          30,
          31,
          32,
          33,
          34,
          35,
          36,
          37,
          38,
          39,
          40,
          41,
          42,
          43,
          44,
          45,
          46,
          47,
          48,
          49,
          50,
          51,
          52,
          53,
          54,
          55,
          56,
          57,
          58,
          59,
          60,
          61,
          62,
          63,
          64,
          65,
          66,
          67,
          68,
          69,
          70,
          71,
          72,
          73,
          74,
          75,
          76,
          77,
          78,
          79,
          80,
          81,
          82,
          83,
          84,
          85,
          86,
          87,
          88,
          89,
          90,
          91,
          92,
          93,
          94,
          95,
          96,
          97,
          98,
          99,
          100,
          101,
          102,
          103,
          104,
          105,
          106,
          107,
          108,
          109,
          110,
          111,
          112,
          113,
          114,
          115,
          116,
          117,
          118,
          119,
          120,
          121,
          122,
          123,
          124,
          125,
          126,
          127,
          128,
          129,
          130,
          131,
          132,
          133,
          134,
          135,
          136,
          137,
          138,
          139,
          140,
          141,
          142,
          143,
          144,
          145,
          146,
          147,
          148,
          149,
          150,
          150,
          150,
          150,
          150,
          150,
          150,
          151,
          152,
          153,
          154,
          155,
          156,
          157,
          158,
          159,
          160,
          161,
          162,
          163,
          164,
          165,
          166,
          167,
          168,
          169,
          170,
          171,
          172,
          173,
          174,
          175,
          176,
          177,
          178,
          179,
          180,
          181,
          182,
          183,
          184,
          185,
          186,
          187,
          188,
          189,
          190,
          191,
          192,
          193,
          194,
          195,
          196,
          197,
          198,
          199,
          200,
          201,
          202,
          203,
          204,
          205,
          206,
          207,
          208,
          209,
          210,
          211,
          212,
          213,
          214,
          215,
          216,
          217,
          218,
          219,
          220,
          220,
          220,
          220,
          220,
          220,
          221,
          222,
          223,
          224,
          225,
          226,
          227,
          228,
          229,
          230,
          231,
          232,
          233,
          234,
          235,
          236,
          237,
          238,
          239,
          240,
          240,
          240,
          240,
          240,
          240,
          241,
          242,
          243,
          244,
          245,
          246,
          247,
          248,
          249,
          250,
          251,
          252,
          253,
          254,
          255,
          256,
          257,
          258,
          259,
          260,
          261,
          262,
          263,
          264,
          265,
          266,
          267,
          268,
          269,
          270,
          271,
          272,
          273,
          274,
          275,
          276,
          277,
          278,
          279,
          280,
          281,
          282,
          283,
          284,
          285,
          286,
          287,
          288,
          289,
          290,
          291,
          292,
          293,
          294,
          295,
          296,
          297,
          298,
          299,
          300,
          301,
          302,
          303,
          304,
          305,
          306,
          307,
          308,
          309,
          310,
          311,
          312,
          313,
          314,
          315,
          316,
          317,
          318,
          319,
          320,
          321,
          322,
          323,
          324,
          325,
          326,
          327,
          328,
          329,
          330,
          330,
          330,
          330,
          330,
          330,
          331,
          332,
          333,
          334,
          335,
          336,
          337,
          338,
          339,
          340,
          341,
          342,
          343,
          344,
          345,
          346,
          347,
          348,
          349,
          350,
          350,
          350,
          350,
          350
         ],
         "y": [
          30,
          30,
          30,
          30,
          30,
          30,
          30,
          30,
          30,
          30,
          30,
          30,
          30,
          30,
          30,
          30,
          30,
          30,
          30,
          30,
          30,
          90,
          90,
          90,
          90,
          90,
          90,
          90,
          90,
          90,
          90,
          90,
          90,
          90,
          90,
          90,
          90,
          90,
          90,
          90,
          90,
          90,
          90,
          90,
          90,
          90,
          90,
          90,
          90,
          90,
          90,
          90,
          90,
          90,
          90,
          90,
          90,
          90,
          90,
          90,
          90,
          90,
          90,
          90,
          90,
          90,
          90,
          90,
          90,
          90,
          90,
          90,
          90,
          90,
          90,
          90,
          90,
          90,
          90,
          90,
          90,
          90,
          90,
          90,
          90,
          90,
          90,
          90,
          90,
          90,
          90,
          90,
          90,
          90,
          90,
          90,
          90,
          90,
          90,
          90,
          90,
          90,
          90,
          90,
          90,
          90,
          90,
          90,
          90,
          90,
          90,
          90,
          90,
          90,
          90,
          90,
          90,
          90,
          90,
          90,
          90,
          90,
          90,
          90,
          90,
          90,
          90,
          90,
          90,
          90,
          90,
          90,
          90,
          90,
          90,
          90,
          90,
          90,
          90,
          90,
          90,
          90,
          90,
          90,
          90,
          90,
          90,
          90,
          90,
          90,
          90,
          90,
          90,
          90,
          90,
          90,
          90,
          90,
          90,
          90,
          90,
          90,
          90,
          90,
          90,
          90,
          90,
          90,
          90,
          90,
          90,
          90,
          90,
          90,
          90,
          90,
          90,
          90,
          90,
          90,
          90,
          90,
          90,
          90,
          90,
          90,
          90,
          90,
          90,
          90,
          90,
          90,
          90,
          90,
          90,
          90,
          90,
          90,
          90,
          90,
          90,
          90,
          90,
          90,
          90,
          90,
          90,
          90,
          90,
          90,
          90,
          90,
          90,
          90,
          90,
          90,
          90,
          90,
          90,
          90,
          90,
          90,
          90,
          90,
          90,
          90,
          90,
          90,
          90,
          90,
          90,
          90,
          170,
          170,
          170,
          170,
          170,
          170,
          170,
          170,
          170,
          170,
          170,
          170,
          170,
          170,
          170,
          170,
          170,
          170,
          170,
          170,
          170,
          170,
          170,
          170,
          170,
          210,
          210,
          210,
          210,
          210,
          210,
          210,
          210,
          210,
          210,
          210,
          210,
          210,
          210,
          210,
          210,
          210,
          210,
          210,
          210,
          210,
          210,
          210,
          210,
          210,
          210,
          210,
          210,
          210,
          210,
          210,
          210,
          210,
          210,
          210,
          210,
          210,
          210,
          210,
          210,
          210,
          210,
          210,
          210,
          210,
          210,
          210,
          210,
          210,
          210,
          210,
          210,
          210,
          210,
          210,
          210,
          210,
          210,
          210,
          210,
          210,
          210,
          210,
          210,
          210,
          210,
          210,
          210,
          210,
          210,
          210,
          210,
          210,
          210,
          210,
          210,
          210,
          210,
          210,
          210,
          210,
          210,
          210,
          210,
          210,
          210,
          210,
          210,
          210,
          210,
          210,
          210,
          210,
          210,
          210,
          210,
          210,
          210,
          210,
          210,
          210,
          210,
          210,
          210,
          210,
          210,
          210,
          210,
          210,
          210,
          210,
          210,
          210,
          210,
          210,
          210,
          210,
          210,
          210,
          210,
          210,
          210,
          210,
          210
         ]
        }
       ],
       "layout": {
        "template": {
         "data": {
          "bar": [
           {
            "error_x": {
             "color": "#2a3f5f"
            },
            "error_y": {
             "color": "#2a3f5f"
            },
            "marker": {
             "line": {
              "color": "#E5ECF6",
              "width": 0.5
             },
             "pattern": {
              "fillmode": "overlay",
              "size": 10,
              "solidity": 0.2
             }
            },
            "type": "bar"
           }
          ],
          "barpolar": [
           {
            "marker": {
             "line": {
              "color": "#E5ECF6",
              "width": 0.5
             },
             "pattern": {
              "fillmode": "overlay",
              "size": 10,
              "solidity": 0.2
             }
            },
            "type": "barpolar"
           }
          ],
          "carpet": [
           {
            "aaxis": {
             "endlinecolor": "#2a3f5f",
             "gridcolor": "white",
             "linecolor": "white",
             "minorgridcolor": "white",
             "startlinecolor": "#2a3f5f"
            },
            "baxis": {
             "endlinecolor": "#2a3f5f",
             "gridcolor": "white",
             "linecolor": "white",
             "minorgridcolor": "white",
             "startlinecolor": "#2a3f5f"
            },
            "type": "carpet"
           }
          ],
          "choropleth": [
           {
            "colorbar": {
             "outlinewidth": 0,
             "ticks": ""
            },
            "type": "choropleth"
           }
          ],
          "contour": [
           {
            "colorbar": {
             "outlinewidth": 0,
             "ticks": ""
            },
            "colorscale": [
             [
              0,
              "#0d0887"
             ],
             [
              0.1111111111111111,
              "#46039f"
             ],
             [
              0.2222222222222222,
              "#7201a8"
             ],
             [
              0.3333333333333333,
              "#9c179e"
             ],
             [
              0.4444444444444444,
              "#bd3786"
             ],
             [
              0.5555555555555556,
              "#d8576b"
             ],
             [
              0.6666666666666666,
              "#ed7953"
             ],
             [
              0.7777777777777778,
              "#fb9f3a"
             ],
             [
              0.8888888888888888,
              "#fdca26"
             ],
             [
              1,
              "#f0f921"
             ]
            ],
            "type": "contour"
           }
          ],
          "contourcarpet": [
           {
            "colorbar": {
             "outlinewidth": 0,
             "ticks": ""
            },
            "type": "contourcarpet"
           }
          ],
          "heatmap": [
           {
            "colorbar": {
             "outlinewidth": 0,
             "ticks": ""
            },
            "colorscale": [
             [
              0,
              "#0d0887"
             ],
             [
              0.1111111111111111,
              "#46039f"
             ],
             [
              0.2222222222222222,
              "#7201a8"
             ],
             [
              0.3333333333333333,
              "#9c179e"
             ],
             [
              0.4444444444444444,
              "#bd3786"
             ],
             [
              0.5555555555555556,
              "#d8576b"
             ],
             [
              0.6666666666666666,
              "#ed7953"
             ],
             [
              0.7777777777777778,
              "#fb9f3a"
             ],
             [
              0.8888888888888888,
              "#fdca26"
             ],
             [
              1,
              "#f0f921"
             ]
            ],
            "type": "heatmap"
           }
          ],
          "heatmapgl": [
           {
            "colorbar": {
             "outlinewidth": 0,
             "ticks": ""
            },
            "colorscale": [
             [
              0,
              "#0d0887"
             ],
             [
              0.1111111111111111,
              "#46039f"
             ],
             [
              0.2222222222222222,
              "#7201a8"
             ],
             [
              0.3333333333333333,
              "#9c179e"
             ],
             [
              0.4444444444444444,
              "#bd3786"
             ],
             [
              0.5555555555555556,
              "#d8576b"
             ],
             [
              0.6666666666666666,
              "#ed7953"
             ],
             [
              0.7777777777777778,
              "#fb9f3a"
             ],
             [
              0.8888888888888888,
              "#fdca26"
             ],
             [
              1,
              "#f0f921"
             ]
            ],
            "type": "heatmapgl"
           }
          ],
          "histogram": [
           {
            "marker": {
             "pattern": {
              "fillmode": "overlay",
              "size": 10,
              "solidity": 0.2
             }
            },
            "type": "histogram"
           }
          ],
          "histogram2d": [
           {
            "colorbar": {
             "outlinewidth": 0,
             "ticks": ""
            },
            "colorscale": [
             [
              0,
              "#0d0887"
             ],
             [
              0.1111111111111111,
              "#46039f"
             ],
             [
              0.2222222222222222,
              "#7201a8"
             ],
             [
              0.3333333333333333,
              "#9c179e"
             ],
             [
              0.4444444444444444,
              "#bd3786"
             ],
             [
              0.5555555555555556,
              "#d8576b"
             ],
             [
              0.6666666666666666,
              "#ed7953"
             ],
             [
              0.7777777777777778,
              "#fb9f3a"
             ],
             [
              0.8888888888888888,
              "#fdca26"
             ],
             [
              1,
              "#f0f921"
             ]
            ],
            "type": "histogram2d"
           }
          ],
          "histogram2dcontour": [
           {
            "colorbar": {
             "outlinewidth": 0,
             "ticks": ""
            },
            "colorscale": [
             [
              0,
              "#0d0887"
             ],
             [
              0.1111111111111111,
              "#46039f"
             ],
             [
              0.2222222222222222,
              "#7201a8"
             ],
             [
              0.3333333333333333,
              "#9c179e"
             ],
             [
              0.4444444444444444,
              "#bd3786"
             ],
             [
              0.5555555555555556,
              "#d8576b"
             ],
             [
              0.6666666666666666,
              "#ed7953"
             ],
             [
              0.7777777777777778,
              "#fb9f3a"
             ],
             [
              0.8888888888888888,
              "#fdca26"
             ],
             [
              1,
              "#f0f921"
             ]
            ],
            "type": "histogram2dcontour"
           }
          ],
          "mesh3d": [
           {
            "colorbar": {
             "outlinewidth": 0,
             "ticks": ""
            },
            "type": "mesh3d"
           }
          ],
          "parcoords": [
           {
            "line": {
             "colorbar": {
              "outlinewidth": 0,
              "ticks": ""
             }
            },
            "type": "parcoords"
           }
          ],
          "pie": [
           {
            "automargin": true,
            "type": "pie"
           }
          ],
          "scatter": [
           {
            "marker": {
             "colorbar": {
              "outlinewidth": 0,
              "ticks": ""
             }
            },
            "type": "scatter"
           }
          ],
          "scatter3d": [
           {
            "line": {
             "colorbar": {
              "outlinewidth": 0,
              "ticks": ""
             }
            },
            "marker": {
             "colorbar": {
              "outlinewidth": 0,
              "ticks": ""
             }
            },
            "type": "scatter3d"
           }
          ],
          "scattercarpet": [
           {
            "marker": {
             "colorbar": {
              "outlinewidth": 0,
              "ticks": ""
             }
            },
            "type": "scattercarpet"
           }
          ],
          "scattergeo": [
           {
            "marker": {
             "colorbar": {
              "outlinewidth": 0,
              "ticks": ""
             }
            },
            "type": "scattergeo"
           }
          ],
          "scattergl": [
           {
            "marker": {
             "colorbar": {
              "outlinewidth": 0,
              "ticks": ""
             }
            },
            "type": "scattergl"
           }
          ],
          "scattermapbox": [
           {
            "marker": {
             "colorbar": {
              "outlinewidth": 0,
              "ticks": ""
             }
            },
            "type": "scattermapbox"
           }
          ],
          "scatterpolar": [
           {
            "marker": {
             "colorbar": {
              "outlinewidth": 0,
              "ticks": ""
             }
            },
            "type": "scatterpolar"
           }
          ],
          "scatterpolargl": [
           {
            "marker": {
             "colorbar": {
              "outlinewidth": 0,
              "ticks": ""
             }
            },
            "type": "scatterpolargl"
           }
          ],
          "scatterternary": [
           {
            "marker": {
             "colorbar": {
              "outlinewidth": 0,
              "ticks": ""
             }
            },
            "type": "scatterternary"
           }
          ],
          "surface": [
           {
            "colorbar": {
             "outlinewidth": 0,
             "ticks": ""
            },
            "colorscale": [
             [
              0,
              "#0d0887"
             ],
             [
              0.1111111111111111,
              "#46039f"
             ],
             [
              0.2222222222222222,
              "#7201a8"
             ],
             [
              0.3333333333333333,
              "#9c179e"
             ],
             [
              0.4444444444444444,
              "#bd3786"
             ],
             [
              0.5555555555555556,
              "#d8576b"
             ],
             [
              0.6666666666666666,
              "#ed7953"
             ],
             [
              0.7777777777777778,
              "#fb9f3a"
             ],
             [
              0.8888888888888888,
              "#fdca26"
             ],
             [
              1,
              "#f0f921"
             ]
            ],
            "type": "surface"
           }
          ],
          "table": [
           {
            "cells": {
             "fill": {
              "color": "#EBF0F8"
             },
             "line": {
              "color": "white"
             }
            },
            "header": {
             "fill": {
              "color": "#C8D4E3"
             },
             "line": {
              "color": "white"
             }
            },
            "type": "table"
           }
          ]
         },
         "layout": {
          "annotationdefaults": {
           "arrowcolor": "#2a3f5f",
           "arrowhead": 0,
           "arrowwidth": 1
          },
          "autotypenumbers": "strict",
          "coloraxis": {
           "colorbar": {
            "outlinewidth": 0,
            "ticks": ""
           }
          },
          "colorscale": {
           "diverging": [
            [
             0,
             "#8e0152"
            ],
            [
             0.1,
             "#c51b7d"
            ],
            [
             0.2,
             "#de77ae"
            ],
            [
             0.3,
             "#f1b6da"
            ],
            [
             0.4,
             "#fde0ef"
            ],
            [
             0.5,
             "#f7f7f7"
            ],
            [
             0.6,
             "#e6f5d0"
            ],
            [
             0.7,
             "#b8e186"
            ],
            [
             0.8,
             "#7fbc41"
            ],
            [
             0.9,
             "#4d9221"
            ],
            [
             1,
             "#276419"
            ]
           ],
           "sequential": [
            [
             0,
             "#0d0887"
            ],
            [
             0.1111111111111111,
             "#46039f"
            ],
            [
             0.2222222222222222,
             "#7201a8"
            ],
            [
             0.3333333333333333,
             "#9c179e"
            ],
            [
             0.4444444444444444,
             "#bd3786"
            ],
            [
             0.5555555555555556,
             "#d8576b"
            ],
            [
             0.6666666666666666,
             "#ed7953"
            ],
            [
             0.7777777777777778,
             "#fb9f3a"
            ],
            [
             0.8888888888888888,
             "#fdca26"
            ],
            [
             1,
             "#f0f921"
            ]
           ],
           "sequentialminus": [
            [
             0,
             "#0d0887"
            ],
            [
             0.1111111111111111,
             "#46039f"
            ],
            [
             0.2222222222222222,
             "#7201a8"
            ],
            [
             0.3333333333333333,
             "#9c179e"
            ],
            [
             0.4444444444444444,
             "#bd3786"
            ],
            [
             0.5555555555555556,
             "#d8576b"
            ],
            [
             0.6666666666666666,
             "#ed7953"
            ],
            [
             0.7777777777777778,
             "#fb9f3a"
            ],
            [
             0.8888888888888888,
             "#fdca26"
            ],
            [
             1,
             "#f0f921"
            ]
           ]
          },
          "colorway": [
           "#636efa",
           "#EF553B",
           "#00cc96",
           "#ab63fa",
           "#FFA15A",
           "#19d3f3",
           "#FF6692",
           "#B6E880",
           "#FF97FF",
           "#FECB52"
          ],
          "font": {
           "color": "#2a3f5f"
          },
          "geo": {
           "bgcolor": "white",
           "lakecolor": "white",
           "landcolor": "#E5ECF6",
           "showlakes": true,
           "showland": true,
           "subunitcolor": "white"
          },
          "hoverlabel": {
           "align": "left"
          },
          "hovermode": "closest",
          "mapbox": {
           "style": "light"
          },
          "paper_bgcolor": "white",
          "plot_bgcolor": "#E5ECF6",
          "polar": {
           "angularaxis": {
            "gridcolor": "white",
            "linecolor": "white",
            "ticks": ""
           },
           "bgcolor": "#E5ECF6",
           "radialaxis": {
            "gridcolor": "white",
            "linecolor": "white",
            "ticks": ""
           }
          },
          "scene": {
           "xaxis": {
            "backgroundcolor": "#E5ECF6",
            "gridcolor": "white",
            "gridwidth": 2,
            "linecolor": "white",
            "showbackground": true,
            "ticks": "",
            "zerolinecolor": "white"
           },
           "yaxis": {
            "backgroundcolor": "#E5ECF6",
            "gridcolor": "white",
            "gridwidth": 2,
            "linecolor": "white",
            "showbackground": true,
            "ticks": "",
            "zerolinecolor": "white"
           },
           "zaxis": {
            "backgroundcolor": "#E5ECF6",
            "gridcolor": "white",
            "gridwidth": 2,
            "linecolor": "white",
            "showbackground": true,
            "ticks": "",
            "zerolinecolor": "white"
           }
          },
          "shapedefaults": {
           "line": {
            "color": "#2a3f5f"
           }
          },
          "ternary": {
           "aaxis": {
            "gridcolor": "white",
            "linecolor": "white",
            "ticks": ""
           },
           "baxis": {
            "gridcolor": "white",
            "linecolor": "white",
            "ticks": ""
           },
           "bgcolor": "#E5ECF6",
           "caxis": {
            "gridcolor": "white",
            "linecolor": "white",
            "ticks": ""
           }
          },
          "title": {
           "x": 0.05
          },
          "xaxis": {
           "automargin": true,
           "gridcolor": "white",
           "linecolor": "white",
           "ticks": "",
           "title": {
            "standoff": 15
           },
           "zerolinecolor": "white",
           "zerolinewidth": 2
          },
          "yaxis": {
           "automargin": true,
           "gridcolor": "white",
           "linecolor": "white",
           "ticks": "",
           "title": {
            "standoff": 15
           },
           "zerolinecolor": "white",
           "zerolinewidth": 2
          }
         }
        },
        "title": {
         "text": "Armazenamento dos Jobs e Arquivos no disco ao longo do tempo"
        },
        "xaxis": {
         "range": [
          0,
          352
         ],
         "title": {
          "text": "Clock"
         }
        },
        "yaxis": {
         "title": {
          "text": "Disco"
         }
        }
       }
      },
      "text/html": [
       "<div>                            <div id=\"f82f33c7-86c7-4259-b758-34488388a015\" class=\"plotly-graph-div\" style=\"height:525px; width:100%;\"></div>            <script type=\"text/javascript\">                require([\"plotly\"], function(Plotly) {                    window.PLOTLYENV=window.PLOTLYENV || {};                                    if (document.getElementById(\"f82f33c7-86c7-4259-b758-34488388a015\")) {                    Plotly.newPlot(                        \"f82f33c7-86c7-4259-b758-34488388a015\",                        [{\"type\":\"scatter\",\"x\":[0,1,2,3,4,5,6,7,8,9,10,11,12,13,14,15,16,17,18,19,20,20,20,20,20,20,21,22,23,24,25,26,27,28,29,30,31,32,33,34,35,36,37,38,39,40,41,42,43,44,45,46,47,48,49,50,51,52,53,54,55,56,57,58,59,60,61,62,63,64,65,66,67,68,69,70,71,72,73,74,75,76,77,78,79,80,81,82,83,84,85,86,87,88,89,90,91,92,93,94,95,96,97,98,99,100,101,102,103,104,105,106,107,108,109,110,111,112,113,114,115,116,117,118,119,120,121,122,123,124,125,126,127,128,129,130,131,132,133,134,135,136,137,138,139,140,141,142,143,144,145,146,147,148,149,150,150,150,150,150,150,150,151,152,153,154,155,156,157,158,159,160,161,162,163,164,165,166,167,168,169,170,171,172,173,174,175,176,177,178,179,180,181,182,183,184,185,186,187,188,189,190,191,192,193,194,195,196,197,198,199,200,201,202,203,204,205,206,207,208,209,210,211,212,213,214,215,216,217,218,219,220,220,220,220,220,220,221,222,223,224,225,226,227,228,229,230,231,232,233,234,235,236,237,238,239,240,240,240,240,240,240,241,242,243,244,245,246,247,248,249,250,251,252,253,254,255,256,257,258,259,260,261,262,263,264,265,266,267,268,269,270,271,272,273,274,275,276,277,278,279,280,281,282,283,284,285,286,287,288,289,290,291,292,293,294,295,296,297,298,299,300,301,302,303,304,305,306,307,308,309,310,311,312,313,314,315,316,317,318,319,320,321,322,323,324,325,326,327,328,329,330,330,330,330,330,330,331,332,333,334,335,336,337,338,339,340,341,342,343,344,345,346,347,348,349,350,350,350,350,350],\"y\":[30,30,30,30,30,30,30,30,30,30,30,30,30,30,30,30,30,30,30,30,30,90,90,90,90,90,90,90,90,90,90,90,90,90,90,90,90,90,90,90,90,90,90,90,90,90,90,90,90,90,90,90,90,90,90,90,90,90,90,90,90,90,90,90,90,90,90,90,90,90,90,90,90,90,90,90,90,90,90,90,90,90,90,90,90,90,90,90,90,90,90,90,90,90,90,90,90,90,90,90,90,90,90,90,90,90,90,90,90,90,90,90,90,90,90,90,90,90,90,90,90,90,90,90,90,90,90,90,90,90,90,90,90,90,90,90,90,90,90,90,90,90,90,90,90,90,90,90,90,90,90,90,90,90,90,90,90,90,90,90,90,90,90,90,90,90,90,90,90,90,90,90,90,90,90,90,90,90,90,90,90,90,90,90,90,90,90,90,90,90,90,90,90,90,90,90,90,90,90,90,90,90,90,90,90,90,90,90,90,90,90,90,90,90,90,90,90,90,90,90,90,90,90,90,90,90,90,90,90,90,90,90,170,170,170,170,170,170,170,170,170,170,170,170,170,170,170,170,170,170,170,170,170,170,170,170,170,210,210,210,210,210,210,210,210,210,210,210,210,210,210,210,210,210,210,210,210,210,210,210,210,210,210,210,210,210,210,210,210,210,210,210,210,210,210,210,210,210,210,210,210,210,210,210,210,210,210,210,210,210,210,210,210,210,210,210,210,210,210,210,210,210,210,210,210,210,210,210,210,210,210,210,210,210,210,210,210,210,210,210,210,210,210,210,210,210,210,210,210,210,210,210,210,210,210,210,210,210,210,210,210,210,210,210,210,210,210,210,210,210,210,210,210,210,210,210,210,210,210,210,210]}],                        {\"template\":{\"data\":{\"bar\":[{\"error_x\":{\"color\":\"#2a3f5f\"},\"error_y\":{\"color\":\"#2a3f5f\"},\"marker\":{\"line\":{\"color\":\"#E5ECF6\",\"width\":0.5},\"pattern\":{\"fillmode\":\"overlay\",\"size\":10,\"solidity\":0.2}},\"type\":\"bar\"}],\"barpolar\":[{\"marker\":{\"line\":{\"color\":\"#E5ECF6\",\"width\":0.5},\"pattern\":{\"fillmode\":\"overlay\",\"size\":10,\"solidity\":0.2}},\"type\":\"barpolar\"}],\"carpet\":[{\"aaxis\":{\"endlinecolor\":\"#2a3f5f\",\"gridcolor\":\"white\",\"linecolor\":\"white\",\"minorgridcolor\":\"white\",\"startlinecolor\":\"#2a3f5f\"},\"baxis\":{\"endlinecolor\":\"#2a3f5f\",\"gridcolor\":\"white\",\"linecolor\":\"white\",\"minorgridcolor\":\"white\",\"startlinecolor\":\"#2a3f5f\"},\"type\":\"carpet\"}],\"choropleth\":[{\"colorbar\":{\"outlinewidth\":0,\"ticks\":\"\"},\"type\":\"choropleth\"}],\"contour\":[{\"colorbar\":{\"outlinewidth\":0,\"ticks\":\"\"},\"colorscale\":[[0.0,\"#0d0887\"],[0.1111111111111111,\"#46039f\"],[0.2222222222222222,\"#7201a8\"],[0.3333333333333333,\"#9c179e\"],[0.4444444444444444,\"#bd3786\"],[0.5555555555555556,\"#d8576b\"],[0.6666666666666666,\"#ed7953\"],[0.7777777777777778,\"#fb9f3a\"],[0.8888888888888888,\"#fdca26\"],[1.0,\"#f0f921\"]],\"type\":\"contour\"}],\"contourcarpet\":[{\"colorbar\":{\"outlinewidth\":0,\"ticks\":\"\"},\"type\":\"contourcarpet\"}],\"heatmap\":[{\"colorbar\":{\"outlinewidth\":0,\"ticks\":\"\"},\"colorscale\":[[0.0,\"#0d0887\"],[0.1111111111111111,\"#46039f\"],[0.2222222222222222,\"#7201a8\"],[0.3333333333333333,\"#9c179e\"],[0.4444444444444444,\"#bd3786\"],[0.5555555555555556,\"#d8576b\"],[0.6666666666666666,\"#ed7953\"],[0.7777777777777778,\"#fb9f3a\"],[0.8888888888888888,\"#fdca26\"],[1.0,\"#f0f921\"]],\"type\":\"heatmap\"}],\"heatmapgl\":[{\"colorbar\":{\"outlinewidth\":0,\"ticks\":\"\"},\"colorscale\":[[0.0,\"#0d0887\"],[0.1111111111111111,\"#46039f\"],[0.2222222222222222,\"#7201a8\"],[0.3333333333333333,\"#9c179e\"],[0.4444444444444444,\"#bd3786\"],[0.5555555555555556,\"#d8576b\"],[0.6666666666666666,\"#ed7953\"],[0.7777777777777778,\"#fb9f3a\"],[0.8888888888888888,\"#fdca26\"],[1.0,\"#f0f921\"]],\"type\":\"heatmapgl\"}],\"histogram\":[{\"marker\":{\"pattern\":{\"fillmode\":\"overlay\",\"size\":10,\"solidity\":0.2}},\"type\":\"histogram\"}],\"histogram2d\":[{\"colorbar\":{\"outlinewidth\":0,\"ticks\":\"\"},\"colorscale\":[[0.0,\"#0d0887\"],[0.1111111111111111,\"#46039f\"],[0.2222222222222222,\"#7201a8\"],[0.3333333333333333,\"#9c179e\"],[0.4444444444444444,\"#bd3786\"],[0.5555555555555556,\"#d8576b\"],[0.6666666666666666,\"#ed7953\"],[0.7777777777777778,\"#fb9f3a\"],[0.8888888888888888,\"#fdca26\"],[1.0,\"#f0f921\"]],\"type\":\"histogram2d\"}],\"histogram2dcontour\":[{\"colorbar\":{\"outlinewidth\":0,\"ticks\":\"\"},\"colorscale\":[[0.0,\"#0d0887\"],[0.1111111111111111,\"#46039f\"],[0.2222222222222222,\"#7201a8\"],[0.3333333333333333,\"#9c179e\"],[0.4444444444444444,\"#bd3786\"],[0.5555555555555556,\"#d8576b\"],[0.6666666666666666,\"#ed7953\"],[0.7777777777777778,\"#fb9f3a\"],[0.8888888888888888,\"#fdca26\"],[1.0,\"#f0f921\"]],\"type\":\"histogram2dcontour\"}],\"mesh3d\":[{\"colorbar\":{\"outlinewidth\":0,\"ticks\":\"\"},\"type\":\"mesh3d\"}],\"parcoords\":[{\"line\":{\"colorbar\":{\"outlinewidth\":0,\"ticks\":\"\"}},\"type\":\"parcoords\"}],\"pie\":[{\"automargin\":true,\"type\":\"pie\"}],\"scatter\":[{\"marker\":{\"colorbar\":{\"outlinewidth\":0,\"ticks\":\"\"}},\"type\":\"scatter\"}],\"scatter3d\":[{\"line\":{\"colorbar\":{\"outlinewidth\":0,\"ticks\":\"\"}},\"marker\":{\"colorbar\":{\"outlinewidth\":0,\"ticks\":\"\"}},\"type\":\"scatter3d\"}],\"scattercarpet\":[{\"marker\":{\"colorbar\":{\"outlinewidth\":0,\"ticks\":\"\"}},\"type\":\"scattercarpet\"}],\"scattergeo\":[{\"marker\":{\"colorbar\":{\"outlinewidth\":0,\"ticks\":\"\"}},\"type\":\"scattergeo\"}],\"scattergl\":[{\"marker\":{\"colorbar\":{\"outlinewidth\":0,\"ticks\":\"\"}},\"type\":\"scattergl\"}],\"scattermapbox\":[{\"marker\":{\"colorbar\":{\"outlinewidth\":0,\"ticks\":\"\"}},\"type\":\"scattermapbox\"}],\"scatterpolar\":[{\"marker\":{\"colorbar\":{\"outlinewidth\":0,\"ticks\":\"\"}},\"type\":\"scatterpolar\"}],\"scatterpolargl\":[{\"marker\":{\"colorbar\":{\"outlinewidth\":0,\"ticks\":\"\"}},\"type\":\"scatterpolargl\"}],\"scatterternary\":[{\"marker\":{\"colorbar\":{\"outlinewidth\":0,\"ticks\":\"\"}},\"type\":\"scatterternary\"}],\"surface\":[{\"colorbar\":{\"outlinewidth\":0,\"ticks\":\"\"},\"colorscale\":[[0.0,\"#0d0887\"],[0.1111111111111111,\"#46039f\"],[0.2222222222222222,\"#7201a8\"],[0.3333333333333333,\"#9c179e\"],[0.4444444444444444,\"#bd3786\"],[0.5555555555555556,\"#d8576b\"],[0.6666666666666666,\"#ed7953\"],[0.7777777777777778,\"#fb9f3a\"],[0.8888888888888888,\"#fdca26\"],[1.0,\"#f0f921\"]],\"type\":\"surface\"}],\"table\":[{\"cells\":{\"fill\":{\"color\":\"#EBF0F8\"},\"line\":{\"color\":\"white\"}},\"header\":{\"fill\":{\"color\":\"#C8D4E3\"},\"line\":{\"color\":\"white\"}},\"type\":\"table\"}]},\"layout\":{\"annotationdefaults\":{\"arrowcolor\":\"#2a3f5f\",\"arrowhead\":0,\"arrowwidth\":1},\"autotypenumbers\":\"strict\",\"coloraxis\":{\"colorbar\":{\"outlinewidth\":0,\"ticks\":\"\"}},\"colorscale\":{\"diverging\":[[0,\"#8e0152\"],[0.1,\"#c51b7d\"],[0.2,\"#de77ae\"],[0.3,\"#f1b6da\"],[0.4,\"#fde0ef\"],[0.5,\"#f7f7f7\"],[0.6,\"#e6f5d0\"],[0.7,\"#b8e186\"],[0.8,\"#7fbc41\"],[0.9,\"#4d9221\"],[1,\"#276419\"]],\"sequential\":[[0.0,\"#0d0887\"],[0.1111111111111111,\"#46039f\"],[0.2222222222222222,\"#7201a8\"],[0.3333333333333333,\"#9c179e\"],[0.4444444444444444,\"#bd3786\"],[0.5555555555555556,\"#d8576b\"],[0.6666666666666666,\"#ed7953\"],[0.7777777777777778,\"#fb9f3a\"],[0.8888888888888888,\"#fdca26\"],[1.0,\"#f0f921\"]],\"sequentialminus\":[[0.0,\"#0d0887\"],[0.1111111111111111,\"#46039f\"],[0.2222222222222222,\"#7201a8\"],[0.3333333333333333,\"#9c179e\"],[0.4444444444444444,\"#bd3786\"],[0.5555555555555556,\"#d8576b\"],[0.6666666666666666,\"#ed7953\"],[0.7777777777777778,\"#fb9f3a\"],[0.8888888888888888,\"#fdca26\"],[1.0,\"#f0f921\"]]},\"colorway\":[\"#636efa\",\"#EF553B\",\"#00cc96\",\"#ab63fa\",\"#FFA15A\",\"#19d3f3\",\"#FF6692\",\"#B6E880\",\"#FF97FF\",\"#FECB52\"],\"font\":{\"color\":\"#2a3f5f\"},\"geo\":{\"bgcolor\":\"white\",\"lakecolor\":\"white\",\"landcolor\":\"#E5ECF6\",\"showlakes\":true,\"showland\":true,\"subunitcolor\":\"white\"},\"hoverlabel\":{\"align\":\"left\"},\"hovermode\":\"closest\",\"mapbox\":{\"style\":\"light\"},\"paper_bgcolor\":\"white\",\"plot_bgcolor\":\"#E5ECF6\",\"polar\":{\"angularaxis\":{\"gridcolor\":\"white\",\"linecolor\":\"white\",\"ticks\":\"\"},\"bgcolor\":\"#E5ECF6\",\"radialaxis\":{\"gridcolor\":\"white\",\"linecolor\":\"white\",\"ticks\":\"\"}},\"scene\":{\"xaxis\":{\"backgroundcolor\":\"#E5ECF6\",\"gridcolor\":\"white\",\"gridwidth\":2,\"linecolor\":\"white\",\"showbackground\":true,\"ticks\":\"\",\"zerolinecolor\":\"white\"},\"yaxis\":{\"backgroundcolor\":\"#E5ECF6\",\"gridcolor\":\"white\",\"gridwidth\":2,\"linecolor\":\"white\",\"showbackground\":true,\"ticks\":\"\",\"zerolinecolor\":\"white\"},\"zaxis\":{\"backgroundcolor\":\"#E5ECF6\",\"gridcolor\":\"white\",\"gridwidth\":2,\"linecolor\":\"white\",\"showbackground\":true,\"ticks\":\"\",\"zerolinecolor\":\"white\"}},\"shapedefaults\":{\"line\":{\"color\":\"#2a3f5f\"}},\"ternary\":{\"aaxis\":{\"gridcolor\":\"white\",\"linecolor\":\"white\",\"ticks\":\"\"},\"baxis\":{\"gridcolor\":\"white\",\"linecolor\":\"white\",\"ticks\":\"\"},\"bgcolor\":\"#E5ECF6\",\"caxis\":{\"gridcolor\":\"white\",\"linecolor\":\"white\",\"ticks\":\"\"}},\"title\":{\"x\":0.05},\"xaxis\":{\"automargin\":true,\"gridcolor\":\"white\",\"linecolor\":\"white\",\"ticks\":\"\",\"title\":{\"standoff\":15},\"zerolinecolor\":\"white\",\"zerolinewidth\":2},\"yaxis\":{\"automargin\":true,\"gridcolor\":\"white\",\"linecolor\":\"white\",\"ticks\":\"\",\"title\":{\"standoff\":15},\"zerolinecolor\":\"white\",\"zerolinewidth\":2}}},\"title\":{\"text\":\"Armazenamento dos Jobs e Arquivos no disco ao longo do tempo\"},\"xaxis\":{\"range\":[0,352],\"title\":{\"text\":\"Clock\"}},\"yaxis\":{\"title\":{\"text\":\"Disco\"}}},                        {\"responsive\": true}                    ).then(function(){\n",
       "                            \n",
       "var gd = document.getElementById('f82f33c7-86c7-4259-b758-34488388a015');\n",
       "var x = new MutationObserver(function (mutations, observer) {{\n",
       "        var display = window.getComputedStyle(gd).display;\n",
       "        if (!display || display === 'none') {{\n",
       "            console.log([gd, 'removed!']);\n",
       "            Plotly.purge(gd);\n",
       "            observer.disconnect();\n",
       "        }}\n",
       "}});\n",
       "\n",
       "// Listen for the removal of the full notebook cells\n",
       "var notebookContainer = gd.closest('#notebook-container');\n",
       "if (notebookContainer) {{\n",
       "    x.observe(notebookContainer, {childList: true});\n",
       "}}\n",
       "\n",
       "// Listen for the clearing of the current output cell\n",
       "var outputEl = gd.closest('.output');\n",
       "if (outputEl) {{\n",
       "    x.observe(outputEl, {childList: true});\n",
       "}}\n",
       "\n",
       "                        })                };                });            </script>        </div>"
      ]
     },
     "metadata": {},
     "output_type": "display_data"
    }
   ],
   "source": [
    "simulation = pd.read_json('data/multi/multiprog_macro_data.json')\n",
    "simulation.set_index('clock', inplace=True)\n",
    "\n",
    "fig = go.Figure()\n",
    "\n",
    "trace = go.Scatter(x=simulation.index,\n",
    "                   y=simulation.memoria * 1000)\n",
    "fig.add_trace(trace)\n",
    "fig.update_xaxes(range=[0, simulation.index[-1] + 2])\n",
    "\n",
    "fig.update_xaxes(title=\"Clock\")\n",
    "fig.update_yaxes(title=\"Memória\", dtick=10000)\n",
    "\n",
    "fig.update_layout(title=\"Utilização da memória ao longo do tempo\")\n",
    "fig.write_image('data/multi/3memoria_multiprog.png')\n",
    "\n",
    "fig = go.Figure()\n",
    "\n",
    "trace = go.Scatter(x=simulation.index,\n",
    "                   y=simulation.disco+30)\n",
    "fig.add_trace(trace)\n",
    "fig.update_xaxes(range=[0, simulation.index[-1] + 2])\n",
    "\n",
    "fig.update_xaxes(title=\"Clock\")\n",
    "fig.update_yaxes(title=\"Disco\")\n",
    "\n",
    "fig.update_layout(title=\"Armazenamento dos Jobs e Arquivos no disco ao longo do tempo\")"
   ]
  },
  {
   "cell_type": "code",
   "execution_count": null,
   "id": "9a28e6c4",
   "metadata": {},
   "outputs": [],
   "source": []
  }
 ],
 "metadata": {
  "kernelspec": {
   "display_name": "Python 3 (ipykernel)",
   "language": "python",
   "name": "python3"
  },
  "language_info": {
   "codemirror_mode": {
    "name": "ipython",
    "version": 3
   },
   "file_extension": ".py",
   "mimetype": "text/x-python",
   "name": "python",
   "nbconvert_exporter": "python",
   "pygments_lexer": "ipython3",
   "version": "3.8.5"
  }
 },
 "nbformat": 4,
 "nbformat_minor": 5
}
